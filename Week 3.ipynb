{
 "cells": [
  {
   "cell_type": "markdown",
   "metadata": {},
   "source": [
    "<center><h1>Week 3</h1></center>"
   ]
  },
  {
   "cell_type": "markdown",
   "metadata": {},
   "source": [
    "# Classes and Objects\n",
    "\n",
    "- The keyword <b>class</b> is used to declare that a new class is being defined. \n",
    "- The entire class definition, including all of its members, will be between the opening curly brace <b>{</b> and the closing curly brace <b>}</b>.\n",
    "- Perhaps the most important thing to understand about a class is that it defines a new <b>data type</b>. Once defined, this new type can be used to create <b>objects of that type</b>. \n",
    "- Thus, a class is a <b>template</b> for an object, and an object is an <b>instance</b> of a class\n",
    "- When you define a class, you declare its exact form and nature. You do this by specifying the data that it contains and the code that operates on that data.\n",
    "- The data, or variables, defined within a class are called <b>instance variables</b> or <b>attributes</b>. The code is contained within <b>methods</b>"
   ]
  },
  {
   "cell_type": "markdown",
   "metadata": {},
   "source": [
    "AcessModifier class className {\n",
    "\n",
    "    // Attributes\n",
    "    AccessModifier DataType AttributeName;\n",
    "\n",
    "    //Methods\n",
    "    AccessMdifiers ReturnType MethodName(Parameters List){\n",
    "        \n",
    "    }\n",
    "}"
   ]
  },
  {
   "cell_type": "code",
   "execution_count": null,
   "metadata": {},
   "outputs": [],
   "source": [
    "class Box{\n",
    "    \n",
    "    double height;\n",
    "    double width;\n",
    "    double depth;\n",
    "\n",
    "}"
   ]
  },
  {
   "cell_type": "markdown",
   "metadata": {},
   "source": [
    "## Object instantiaion\n",
    "\n",
    "- Obtaining objects of a class is a <b>two-step</b> process:\n",
    "    - First, you must <b>declare</b> a variable of the class type. This variable <b>does not</b> define an object. Instead, it is simply a variable that <b>can refer</b> to an object.\n",
    "    - Second, you must <b>acquire</b> an actual, physical copy of the object and <b>assign</b> it to that variable. You can do this using the <b>new operator</b>. "
   ]
  },
  {
   "cell_type": "markdown",
   "metadata": {},
   "source": [
    "- The new operator <b>dynamically allocates</b> (that is, allocates at run time) memory for an object and returns a <b>reference</b> to it. This reference is, more or less, the address in memory of the object allocated by new. The class name followed by parentheses specifies the constructor for the class."
   ]
  },
  {
   "cell_type": "markdown",
   "metadata": {},
   "source": [
    "className objectName;\n",
    "\n",
    "\n",
    "objectName = new className();"
   ]
  },
  {
   "cell_type": "code",
   "execution_count": null,
   "metadata": {},
   "outputs": [],
   "source": [
    "Box Mybox = new Box();"
   ]
  },
  {
   "cell_type": "markdown",
   "metadata": {},
   "source": [
    "<img src = \"Object.png\" >"
   ]
  },
  {
   "cell_type": "markdown",
   "metadata": {},
   "source": [
    "## Assigning Object Reference Variables"
   ]
  },
  {
   "cell_type": "code",
   "execution_count": null,
   "metadata": {},
   "outputs": [],
   "source": [
    "Box A = new Box();\n",
    "Box B = A;"
   ]
  },
  {
   "cell_type": "markdown",
   "metadata": {},
   "source": [
    "- You might think that B is being assigned a reference to a copy of the object referred to by A. That is, you might think that A and B refer to separate and distinct objects. However, this would be wrong. Instead, after this fragment executes, A and B will both <b>refer to the same object</b>"
   ]
  },
  {
   "cell_type": "markdown",
   "metadata": {},
   "source": [
    "- REMEMBER When you assign one object reference variable to another object reference variable, you are not creating a copy of the object, you are only making a copy of the reference."
   ]
  },
  {
   "cell_type": "markdown",
   "metadata": {},
   "source": [
    "- Although A and B both refer to the same object, they are <b>not linked</b> in any other way. \n",
    "- For example, a subsequent assignment to A will simply unhook A from the original object without affecting the object or affecting B"
   ]
  },
  {
   "cell_type": "code",
   "execution_count": null,
   "metadata": {},
   "outputs": [],
   "source": [
    "A = null;"
   ]
  },
  {
   "cell_type": "markdown",
   "metadata": {},
   "source": [
    "- Here, A has been set to null, but B <b>still points</b> to the original object."
   ]
  },
  {
   "cell_type": "markdown",
   "metadata": {},
   "source": [
    "## Constructor\n",
    "\n",
    "- A constructor defines what occurs when an object of a class is created.\n",
    "- Most real-world classes explicitly define their own constructors within their class definition. \n",
    "- However, if no explicit constructor is specified, then Java will <b>automatically</b> supply a <b>default constructor</b>"
   ]
  },
  {
   "cell_type": "markdown",
   "metadata": {},
   "source": [
    "### Default Constructor\n",
    "\n",
    "- The default constructor automatically initializes all instance variables to their default values, which are <b>zero</b>, <b>null</b>, and <b>false</b>, for <b>numeric types</b>, <b>reference types</b>, and <b>boolean</b>, respectively"
   ]
  },
  {
   "cell_type": "code",
   "execution_count": 1,
   "metadata": {},
   "outputs": [],
   "source": [
    "class A {\n",
    "\n",
    "    int i;\n",
    "    String s;\n",
    "    boolean b;\n",
    "    \n",
    "    public void print(){\n",
    "    \n",
    "        System.out.println(i);\n",
    "        System.out.println(s);\n",
    "        System.out.println(b);\n",
    "        \n",
    "    }\n",
    "\n",
    "}"
   ]
  },
  {
   "cell_type": "code",
   "execution_count": 2,
   "metadata": {},
   "outputs": [
    {
     "name": "stdout",
     "output_type": "stream",
     "text": [
      "0\n",
      "null\n",
      "false\n"
     ]
    }
   ],
   "source": [
    "A a = new A();\n",
    "a.print();"
   ]
  },
  {
   "cell_type": "markdown",
   "metadata": {},
   "source": [
    "<center><h2>Exercises</h2></center>"
   ]
  },
  {
   "cell_type": "code",
   "execution_count": null,
   "metadata": {},
   "outputs": [],
   "source": [
    "class Circle {\n",
    "\n",
    "    /** The radius of this circle */\n",
    "    double radius = 1;\n",
    "    \n",
    "    /** Construct a circle object */\n",
    "    Circle() {\n",
    "    }\n",
    "    \n",
    "    /** Construct a circle object */\n",
    "    Circle(double newRadius) {\n",
    "        radius = newRadius;\n",
    "    }\n",
    "    \n",
    "    /** Return the area of this circle */\n",
    "    double getArea() {\n",
    "        return radius * radius * Math.PI;\n",
    "    }\n",
    "    \n",
    "    /** Return the perimeter of this circle */\n",
    "    double getPerimeter() {\n",
    "        return 2 * radius * Math.PI;\n",
    "    }\n",
    "    \n",
    "    /** Set new radius for this circle */\n",
    "    void setRadius(double newRadius) {\n",
    "        radius = newRadius;\n",
    "    }\n",
    "    \n",
    "}"
   ]
  },
  {
   "cell_type": "code",
   "execution_count": null,
   "metadata": {},
   "outputs": [],
   "source": [
    "public class Test{\n",
    "\n",
    "    public static void main(String[] args){\n",
    "    \n",
    "        Cicle c1 = new Circle();\n",
    "        \n",
    "        System.out.println(c.getPerimeter());\n",
    "        System.out.println(c.getArea());\n",
    "        \n",
    "        c.setRadius(5);\n",
    "        \n",
    "        Circle c2 = new Circle(10);\n",
    "        \n",
    "        System.out.println(c2.getArea());\n",
    "        System.out.println(c2.getPerimeter());\n",
    "    \n",
    "    }\n",
    "\n",
    "}"
   ]
  },
  {
   "cell_type": "code",
   "execution_count": null,
   "metadata": {},
   "outputs": [],
   "source": [
    "// Define the circle class with two constructors\n",
    "class SimpleCircle {\n",
    "\n",
    "        double radius;\n",
    "        \n",
    "        /** Construct a circle with radius 1 */\n",
    "        SimpleCircle() {\n",
    "            radius = 1;\n",
    "        }\n",
    "        \n",
    "        /** Construct a circle with a specified radius */\n",
    "        SimpleCircle(double newRadius) {\n",
    "            radius = newRadius;\n",
    "        }\n",
    "        \n",
    "        \n",
    "        /** Return the area of this circle */\n",
    "        double getArea() {\n",
    "            return radius * radius * Math.PI;\n",
    "        }\n",
    "        \n",
    "        \n",
    "        /** Return the perimeter of this circle */\n",
    "        double getPerimeter() {\n",
    "            return 2 * radius * Math.PI;\n",
    "        }\n",
    "        \n",
    "        \n",
    "        /** Set a new radius for this circle */\n",
    "        void setRadius(double newRadius) {\n",
    "            radius = newRadius;\n",
    "        \n",
    "        }\n",
    "\n",
    "}"
   ]
  },
  {
   "cell_type": "code",
   "execution_count": null,
   "metadata": {},
   "outputs": [],
   "source": [
    "public class TestSimpleCircle {\n",
    "\n",
    "    public static void main(String[] args) {\n",
    "        \n",
    "        // Create a circle with radius 1\n",
    "        SimpleCircle circle1 = new SimpleCircle();\n",
    "        System.out.println(\"The area of the circle of radius \" + circle1.radius + \" is \" + circle1.getArea());\n",
    "        \n",
    "        // Create a circle with radius 25\n",
    "        SimpleCircle circle2 = new SimpleCircle(25);\n",
    "        System.out.println(\"The area of the circle of radius \" + circle2.radius + \" is \" + circle2.getArea());\n",
    "        \n",
    "        // Create a circle with radius 125\n",
    "        SimpleCircle circle3 = new SimpleCircle(125);\n",
    "        System.out.println(\"The area of the circle of radius \" + circle3.radius + \" is \" + circle3.getArea());\n",
    "        \n",
    "        // Modify circle radius\n",
    "        circle2.radius = 100; // or circle2.setRadius(100)\n",
    "        System.out.println(\"The area of the circle of radius \" + circle2.radius + \" is \" + circle2.getArea());\n",
    "        \n",
    "        }\n",
    "        \n",
    "}"
   ]
  },
  {
   "cell_type": "code",
   "execution_count": null,
   "metadata": {},
   "outputs": [],
   "source": [
    "class Student {\n",
    "\n",
    "    String name; // name has the default value null\n",
    "    int age; // age has the default value 0\n",
    "    boolean isScienceMajor; // isScienceMajor has default value false\n",
    "    char gender; // gender has default value '\\u0000'\n",
    "    \n",
    "}"
   ]
  },
  {
   "cell_type": "code",
   "execution_count": null,
   "metadata": {},
   "outputs": [],
   "source": [
    "class Test {\n",
    "\n",
    "    public static void main(String[] args) {\n",
    "    \n",
    "        Student student = new Student();\n",
    "        System.out.println(\"name? \" + student.name);\n",
    "        System.out.println(\"age? \" + student.age);\n",
    "        System.out.println(\"isScienceMajor? \" + student.isScienceMajor);\n",
    "        System.out.println(\"gender? \" + student.gender);\n",
    "        \n",
    "    }\n",
    "}"
   ]
  }
 ],
 "metadata": {
  "kernelspec": {
   "display_name": "Java",
   "language": "java",
   "name": "java"
  },
  "language_info": {
   "codemirror_mode": "java",
   "file_extension": ".java",
   "mimetype": "text/x-java-source",
   "name": "Java",
   "pygments_lexer": "java",
   "version": "10.0.2+13"
  }
 },
 "nbformat": 4,
 "nbformat_minor": 2
}
