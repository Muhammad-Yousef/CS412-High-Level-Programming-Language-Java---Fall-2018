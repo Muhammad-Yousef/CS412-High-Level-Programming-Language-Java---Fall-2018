{
 "cells": [
  {
   "cell_type": "markdown",
   "metadata": {},
   "source": [
    "# Correct the following code"
   ]
  },
  {
   "cell_type": "code",
   "execution_count": null,
   "metadata": {},
   "outputs": [],
   "source": [
    "public class A {\n",
    "    \n",
    "    int i = 5;\n",
    "    static int k = 2;\n",
    "    \n",
    "    public void m1() {\n",
    "        \n",
    "        // Correct since instance and static variables and methods\n",
    "        // can be used in an instance method\n",
    "        i = i + k + m2(i, k);\n",
    "        \n",
    "    }\n",
    "    \n",
    "    public static int m2(int i, int j) {\n",
    "        \n",
    "        return (int)(Math.pow(i, j));\n",
    "        \n",
    "    }\n",
    "    \n",
    "    public static void main(String[] args) {\n",
    "        \n",
    "        int j = i; // Wrong because i is an instance variable [Not static]\n",
    "        m1(); // Wrong because m1() is an instance method [Not Static]\n",
    "        \n",
    "    }\n",
    "    \n",
    "}"
   ]
  },
  {
   "cell_type": "code",
   "execution_count": null,
   "metadata": {},
   "outputs": [],
   "source": [
    "// Correction\n",
    "\n",
    "public class A {\n",
    "\n",
    "    int i = 5;\n",
    "    static int k = 2;\n",
    "    \n",
    "    public void m1() {\n",
    "    \n",
    "        i = i + k + m2(i, k);\n",
    "        \n",
    "    }\n",
    "    \n",
    "    public static int m2(int i, int j) {\n",
    "    \n",
    "        return (int)(Math.pow(i, j));\n",
    "    \n",
    "    }\n",
    "    \n",
    "    public static void main(String[] args) {\n",
    "    \n",
    "        A a = new A();\n",
    "        int j = a.i; // OK, a.i accesses the object's instance variable\n",
    "        a.m1(); // OK. a.m1() invokes the object's instance method\n",
    "        \n",
    "    }\n",
    "    \n",
    "}"
   ]
  },
  {
   "cell_type": "markdown",
   "metadata": {},
   "source": [
    "## Suppose that the class F is defined, Let f be an instance of F . Which of the statements are correct?"
   ]
  },
  {
   "cell_type": "code",
   "execution_count": null,
   "metadata": {},
   "outputs": [],
   "source": [
    "public class F {\n",
    "\n",
    "    int i;\n",
    "    static String s;\n",
    "    \n",
    "    void imethod() {\n",
    "    \n",
    "    }\n",
    "    \n",
    "    static void smethod() {\n",
    "    \n",
    "    }\n",
    "\n",
    "}"
   ]
  },
  {
   "cell_type": "code",
   "execution_count": null,
   "metadata": {},
   "outputs": [],
   "source": [
    "F f = new F();\n",
    "\n",
    "System.out.println(f.i); // Correct\n",
    "System.out.println(f.s); // Correct\n",
    "\n",
    "f.imethod(); // Correct\n",
    "f.smethod(); // Correct\n",
    "\n",
    "System.out.println(F.i); // Error\n",
    "System.out.println(F.s); // Correct\n",
    "\n",
    "F.imethod(); // Error\n",
    "F.smethod(); // Correct"
   ]
  },
  {
   "cell_type": "markdown",
   "metadata": {},
   "source": [
    "## Add static keywork in the place of the question mark ? if appropiate. [Postponed]"
   ]
  },
  {
   "cell_type": "code",
   "execution_count": null,
   "metadata": {},
   "outputs": [],
   "source": [
    "public class Test {\n",
    "\n",
    "    int count;\n",
    "    \n",
    "    public ? void main(String[] args) {\n",
    "        ...\n",
    "    }\n",
    "    \n",
    "    public ? int getCount() {\n",
    "        return count;\n",
    "    }\n",
    "    \n",
    "    public ? int factorial(int n) {\n",
    "        int result = 1;\n",
    "        for (int i = 1; i <= n; i++)\n",
    "            result *= i;\n",
    "        return result;\n",
    "    }\n",
    "    \n",
    "}"
   ]
  },
  {
   "cell_type": "markdown",
   "metadata": {},
   "source": [
    "## What is wrong with the following? [Postponed]"
   ]
  },
  {
   "cell_type": "code",
   "execution_count": null,
   "metadata": {},
   "outputs": [],
   "source": [
    "public class C {\n",
    "    public static void main(String[] args) {\n",
    "    \n",
    "        method1();\n",
    "    \n",
    "    }\n",
    "    \n",
    "    public void method1() {\n",
    "    \n",
    "        method2();\n",
    "    }\n",
    "    \n",
    "    public static void method2() {\n",
    "        System.out.println(\"What is radius \" + c.getRadius());\n",
    "    }\n",
    "    \n",
    "    Circle c = new Circle();\n",
    "}"
   ]
  },
  {
   "cell_type": "markdown",
   "metadata": {},
   "source": [
    "# Functions"
   ]
  },
  {
   "cell_type": "markdown",
   "metadata": {},
   "source": [
    "AccessModifier ReturnType FunctionName(Parameters List){\n",
    "\n",
    "    // Function Body\n",
    "    \n",
    "}"
   ]
  },
  {
   "cell_type": "code",
   "execution_count": 55,
   "metadata": {},
   "outputs": [],
   "source": [
    "double add(double x, double y){\n",
    "    return x + y;\n",
    "}"
   ]
  },
  {
   "cell_type": "code",
   "execution_count": 56,
   "metadata": {},
   "outputs": [
    {
     "name": "stdout",
     "output_type": "stream",
     "text": [
      "11.0"
     ]
    }
   ],
   "source": [
    "System.out.print(add(5, 6));"
   ]
  },
  {
   "cell_type": "markdown",
   "metadata": {},
   "source": [
    "- It is important to keep the two terms <b>parameter</b> and <b>argument</b> straight.\n",
    "- A <b>parameter</b> is a variable defined by a method that receives a value when the method is called. For example, in square(i), i is a parameter. \n",
    "- An <b>argument</b> is a value that is passed to a method when it is invoked. For example, square(100) passes 100 as an argument. Inside square( ), the parameter i receives that value."
   ]
  },
  {
   "cell_type": "markdown",
   "metadata": {},
   "source": [
    "## Argument passing\n",
    "\n",
    "- Although Java uses <b>call-by-value</b> to <b>pass all arguments</b>, the precise effect differs between whether a <b>primitive</b> type or a <b>reference</b> type is passed.\n",
    "- When you pass a <b>primitive</b> type to a method, it is passed <b>by value</b>. Thus, a copy of the argument is made, and what occurs to the parameter that receives the argument has no effect outside the method.\n",
    "- When you pass an <b>object</b> to a method, the situation changes dramatically, because objects are passed by what is effectively <b>call-by-reference</b>."
   ]
  },
  {
   "cell_type": "markdown",
   "metadata": {},
   "source": [
    "- In general, there are two ways that a computer language can pass an argument to a subroutine."
   ]
  },
  {
   "cell_type": "markdown",
   "metadata": {},
   "source": [
    "### Pass by Value:\n",
    "\n",
    "- This approach copies the value of an argument into the formal parameter of the subroutine. Therefore, changes made to the parameter of the subroutine have no effect on the argument."
   ]
  },
  {
   "cell_type": "markdown",
   "metadata": {},
   "source": [
    "### Pass by Reference\n",
    "\n",
    "- In this approach, a reference to an argument (not the value of the argument) is passed to the parameter. \n",
    "- Inside the subroutine, this reference is used to access the actual argument specified in the call. This means that changes made to the parameter will affect the argument used to call the subroutine."
   ]
  },
  {
   "cell_type": "markdown",
   "metadata": {},
   "source": [
    "## Using objects as parameters\n",
    "\n",
    "- It is both correct and common to pass objects to methods"
   ]
  },
  {
   "cell_type": "code",
   "execution_count": 57,
   "metadata": {},
   "outputs": [],
   "source": [
    "// Objects may be passed to methods.\n",
    "\n",
    "class Test {\n",
    "    \n",
    "    int a, b;\n",
    "    \n",
    "    Test(int i, int j) {\n",
    "        a = i;\n",
    "        b = j;\n",
    "    }\n",
    "\n",
    "    // return true if o is equal to the invoking object\n",
    "    boolean equalTo(Test o) {\n",
    "        if(o.a == a && o.b == b)\n",
    "            return true;\n",
    "        else\n",
    "            return false;\n",
    "    }\n",
    "    \n",
    "}"
   ]
  },
  {
   "cell_type": "code",
   "execution_count": 58,
   "metadata": {},
   "outputs": [
    {
     "name": "stdout",
     "output_type": "stream",
     "text": [
      "ob1 == ob2: true\n",
      "ob1 == ob3: false\n"
     ]
    }
   ],
   "source": [
    "Test ob1 = new Test(1, 2);\n",
    "Test ob2 = new Test(1, 2);\n",
    "Test ob3 = new Test(-1, -1);\n",
    "\n",
    "System.out.println(\"ob1 == ob2: \" + ob1.equalTo(ob2));\n",
    "System.out.println(\"ob1 == ob3: \" + ob1.equalTo(ob3));"
   ]
  },
  {
   "cell_type": "code",
   "execution_count": 59,
   "metadata": {},
   "outputs": [],
   "source": [
    "// Objects are passed through their references.\n",
    "class Test {\n",
    "    \n",
    "    int a, b;\n",
    "    \n",
    "    Test(int i, int j) {\n",
    "        a = i;\n",
    "        b = j;\n",
    "    }\n",
    "    \n",
    "// pass an object\n",
    "    void change(Test o) {\n",
    "        o.a *= 2;\n",
    "        o.b /= 2;\n",
    "    }\n",
    "    \n",
    "}"
   ]
  },
  {
   "cell_type": "code",
   "execution_count": 60,
   "metadata": {},
   "outputs": [
    {
     "name": "stdout",
     "output_type": "stream",
     "text": [
      "ob.a and ob.b before call: 15 20\n",
      "ob.a and ob.b after call: 30 10\n"
     ]
    }
   ],
   "source": [
    "Test ob = new Test(15, 20);\n",
    "System.out.println(\"ob.a and ob.b before call: \" + ob.a + \" \" + ob.b);\n",
    "\n",
    "ob.change(ob);\n",
    "\n",
    "System.out.println(\"ob.a and ob.b after call: \" + ob.a + \" \" + ob.b);"
   ]
  }
 ],
 "metadata": {
  "kernelspec": {
   "display_name": "Java",
   "language": "java",
   "name": "java"
  },
  "language_info": {
   "codemirror_mode": "java",
   "file_extension": ".java",
   "mimetype": "text/x-java-source",
   "name": "Java",
   "pygments_lexer": "java",
   "version": "10.0.2+13"
  }
 },
 "nbformat": 4,
 "nbformat_minor": 2
}
