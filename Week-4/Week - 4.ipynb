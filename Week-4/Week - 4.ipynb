{
 "cells": [
  {
   "cell_type": "markdown",
   "metadata": {},
   "source": [
    "<center><h1>Week - 4</h1></center>"
   ]
  },
  {
   "cell_type": "markdown",
   "metadata": {},
   "source": [
    "<center><h2>Exercises</h2></center>"
   ]
  },
  {
   "cell_type": "markdown",
   "metadata": {},
   "source": [
    "### Show the Erorr with the following"
   ]
  },
  {
   "cell_type": "code",
   "execution_count": 2,
   "metadata": {},
   "outputs": [],
   "source": [
    "public class ShowErrors {\n",
    "\n",
    "    public static void main(String[] args) {\n",
    "        ShowErrors t = new ShowErrors(5);\n",
    "    }\n",
    "\n",
    "}"
   ]
  },
  {
   "cell_type": "code",
   "execution_count": null,
   "metadata": {},
   "outputs": [],
   "source": [
    "public class ShowErrors {\n",
    "\n",
    "    public static void main(String[] args) {\n",
    "    \n",
    "        ShowErrors t = new ShowErrors();\n",
    "        t.x();\n",
    "    \n",
    "    }\n",
    "}"
   ]
  },
  {
   "cell_type": "code",
   "execution_count": null,
   "metadata": {},
   "outputs": [],
   "source": [
    "public class ShowErrors {\n",
    "\n",
    "    public void method1() {\n",
    "    \n",
    "        Circle c;\n",
    "        System.out.println(\"What is radius \" + c.getRadius());\n",
    "        c = new Circle();\n",
    "        \n",
    "    }\n",
    "    \n",
    "}"
   ]
  },
  {
   "cell_type": "code",
   "execution_count": null,
   "metadata": {},
   "outputs": [],
   "source": [
    "public class ShowErrors {\n",
    "\n",
    "    public static void main(String[] args) {\n",
    "    \n",
    "        C c = new C(5.0);\n",
    "        System.out.println(c.value);\n",
    "        \n",
    "    }\n",
    "    \n",
    "}\n",
    "\n",
    "class C {\n",
    "\n",
    "    int value = 2;\n",
    "    \n",
    "}"
   ]
  },
  {
   "cell_type": "code",
   "execution_count": null,
   "metadata": {},
   "outputs": [],
   "source": [
    "class Test {\n",
    "\n",
    "    public static void main(String[] args) {\n",
    "    \n",
    "        A a = new A();\n",
    "        a.print();\n",
    "    \n",
    "    }\n",
    "\n",
    "}\n",
    "\n",
    "class A {\n",
    "\n",
    "    String s;\n",
    "    \n",
    "    A(String newS) {\n",
    "    \n",
    "        s = newS;\n",
    "    \n",
    "    }\n",
    "    \n",
    "    public void print() {\n",
    "    \n",
    "        System.out.print(s);\n",
    "    \n",
    "    }\n",
    "    \n",
    "}"
   ]
  },
  {
   "cell_type": "markdown",
   "metadata": {},
   "source": [
    "### What is the output?"
   ]
  },
  {
   "cell_type": "code",
   "execution_count": 1,
   "metadata": {},
   "outputs": [],
   "source": [
    "public class A {\n",
    "\n",
    "    boolean x;\n",
    "    \n",
    "    public static void main(String[] args) {\n",
    "    \n",
    "        A a = new A();\n",
    "        System.out.println(a.x);\n",
    "        \n",
    "    }\n",
    "}"
   ]
  },
  {
   "cell_type": "markdown",
   "metadata": {},
   "source": [
    "# Packages\n",
    "\n",
    "- Packages are <b>containers for classes</b>.\n",
    "- To create a package is quite easy: simply include a <b>package</b> command as the <b>first statement</b> in a Java source file. <b>Any classes</b> declared within that file will <b>belong</b> to the specified package.\n",
    "- If you omit the package statement, the class names are put into the <b>default package</b>, which has <b>no name</b>.\n",
    "- You can create a hierarchy of packages. To do so, simply separate each package name from the one above it by use of a <b>period</b>."
   ]
  },
  {
   "cell_type": "code",
   "execution_count": null,
   "metadata": {},
   "outputs": [],
   "source": [
    "package packageName;"
   ]
  },
  {
   "cell_type": "code",
   "execution_count": null,
   "metadata": {},
   "outputs": [],
   "source": [
    "package A.B.C;"
   ]
  },
  {
   "cell_type": "markdown",
   "metadata": {},
   "source": [
    "## Importing Packages\n",
    "\n",
    "- Java includes the <b>import statement</b> to bring certain <b>classes</b>, or <b>entire packages</b>, into visibility. Once imported, a class can be referred to directly, using <b>only its name</b>.\n",
    "- In a Java source file, import statements occur <b>immediately following</b> the package statement <b>(if it exists)</b> and <b>before</b> any class definitions."
   ]
  },
  {
   "cell_type": "code",
   "execution_count": null,
   "metadata": {},
   "outputs": [],
   "source": [
    "import java.util.Scanner;"
   ]
  },
  {
   "cell_type": "markdown",
   "metadata": {},
   "source": [
    "# Access Modifiers"
   ]
  },
  {
   "cell_type": "markdown",
   "metadata": {},
   "source": [
    "## Public\n",
    "\n",
    "- The public keyword is an access modifier, which allows the programmer to control the visibility of class members. \n",
    "- When a class member is preceded by public, then that member may be accessed by code outside the class in which it is declared."
   ]
  },
  {
   "cell_type": "markdown",
   "metadata": {},
   "source": [
    "## Private\n",
    "\n",
    "- Which <b>prevents</b> a member from being used by code defined outside of its class, that member can <b>only</b> be accessed by other members of its class"
   ]
  },
  {
   "cell_type": "markdown",
   "metadata": {},
   "source": [
    "## Protected\n",
    "\n",
    "1. Accessed from subclasses.\n",
    "2. All classes in the same package. "
   ]
  },
  {
   "cell_type": "markdown",
   "metadata": {},
   "source": [
    "## Default\n",
    "\n",
    "- without any keyword <b>[You don't write default]</b>\n",
    "- Accessed from all classed in the same package."
   ]
  },
  {
   "cell_type": "markdown",
   "metadata": {},
   "source": [
    "<table>\n",
    "    <tr>\n",
    "        <td></td>\n",
    "        <td>Private</td>\n",
    "        <td>Default</td>\n",
    "        <td>Protected</td>\n",
    "        <td>Public</td>\n",
    "    </tr>\n",
    "    <tr>\n",
    "        <td>Same Class</td>\n",
    "        <td>Yes</td>\n",
    "        <td>Yes</td>\n",
    "        <td>Yes</td>\n",
    "        <td>Yes</td>\n",
    "    </tr>\n",
    "    <tr>\n",
    "        <td>Same Package subclass</td>\n",
    "        <td>No</td>\n",
    "        <td>Yes</td>\n",
    "        <td>Yes</td>\n",
    "        <td>Yes</td>\n",
    "    </tr>\n",
    "    <tr>\n",
    "        <td>Same Package Non-Subclass</td>\n",
    "        <td>No</td>\n",
    "        <td>Yes</td>\n",
    "        <td>Yes</td>\n",
    "        <td>Yes</td>\n",
    "    </tr>\n",
    "    <tr>\n",
    "        <td>Different package Subclass</td>\n",
    "        <td>No</td>\n",
    "        <td>No</td>\n",
    "        <td>Yes</td>\n",
    "        <td>Yes</td>\n",
    "    </tr>\n",
    "    <tr>\n",
    "        <td>Different Package Non-Subclass</td>\n",
    "        <td>No</td>\n",
    "        <td>No</td>\n",
    "        <td>No</td>\n",
    "        <td>Yes</td>\n",
    "    </tr>\n",
    "</table>"
   ]
  },
  {
   "cell_type": "code",
   "execution_count": null,
   "metadata": {},
   "outputs": [],
   "source": [
    "package p1;\n",
    "\n",
    "public class C1{\n",
    "\n",
    "    public int x;\n",
    "    int y;\n",
    "    private int z;\n",
    "    \n",
    "    public void m1(){\n",
    "    \n",
    "    }\n",
    "    \n",
    "    void m2(){\n",
    "    \n",
    "    }\n",
    "    \n",
    "    private void m3(){\n",
    "    \n",
    "    }\n",
    "\n",
    "}"
   ]
  },
  {
   "cell_type": "code",
   "execution_count": null,
   "metadata": {},
   "outputs": [],
   "source": [
    "package p1;\n",
    "\n",
    "public class C2{\n",
    "\n",
    "    void aMethod(){\n",
    "    \n",
    "        C1 o = new C1();\n",
    "        \n",
    "        // can access o.x because it is public\n",
    "        // can access o.y because they are in the same package\n",
    "        // cannot access o.z because it is private\n",
    "        \n",
    "        //can invoke o.m1() because it is public\n",
    "        //can invoke o.m2() because it is default and they are in the same package\n",
    "        //cannot invoke o.m3() due to its private declaration\n",
    "    \n",
    "    }\n",
    "\n",
    "}"
   ]
  },
  {
   "cell_type": "code",
   "execution_count": null,
   "metadata": {},
   "outputs": [],
   "source": [
    "package p2;\n",
    "\n",
    "public class C3{\n",
    "\n",
    "    void aMethod(){\n",
    "    \n",
    "        C1 o = new C1();\n",
    "        \n",
    "        //can access o.x because it is public\n",
    "        //cannot access o.y because they aren't in the same package\n",
    "        //cannot access o.z because it is private\n",
    "        \n",
    "        //can invoke o.m1() due to its public declaration\n",
    "        //cannot invoke o.m2() due to its private declarartion and they are not in the same package\n",
    "        //cannot invoke o.m3() due to its private declarartion\n",
    "    \n",
    "    }\n",
    "\n",
    "}"
   ]
  },
  {
   "cell_type": "markdown",
   "metadata": {},
   "source": [
    "## Static Members\n",
    "\n",
    "- There will be times when you will want to define a <b>class member</b> that will be used <b>independently</b> of any object of that class.\n",
    "- To create such a member, precede its declaration with the keyword <b>static</b>."
   ]
  },
  {
   "cell_type": "markdown",
   "metadata": {},
   "source": [
    "- Methods declared as static have several restrictions:\n",
    "    - They can only directly access <b>static</b> data.\n",
    "    - They can only directly call other <b>static</b> methods.\n",
    "    - They cannot refer to <b>this</b> or <b>super</b> in any way. "
   ]
  },
  {
   "cell_type": "markdown",
   "metadata": {},
   "source": [
    "- Outside of the class in which they are defined, static methods and variables can be used independently of any object. To do so, you need only specify the name of their class followed by the dot operator."
   ]
  },
  {
   "cell_type": "markdown",
   "metadata": {},
   "source": [
    "className.method()"
   ]
  },
  {
   "cell_type": "markdown",
   "metadata": {},
   "source": [
    "<center><h2>Exercises</h2></center>"
   ]
  },
  {
   "cell_type": "code",
   "execution_count": null,
   "metadata": {},
   "outputs": [],
   "source": [
    "public class CircleWithStaticMembers {\n",
    "\n",
    "    /** The radius of the circle */\n",
    "    double radius;\n",
    "    \n",
    "    /** The number of objects created */\n",
    "    static int numberOfObjects = 0;\n",
    "    \n",
    "    /** Construct a circle with radius 1 */\n",
    "    CircleWithStaticMembers() {\n",
    "    \n",
    "        radius = 1;\n",
    "        numberOfObjects++;\n",
    "        \n",
    "    }\n",
    "    \n",
    "    /** Construct a circle with a specified radius */\n",
    "    CircleWithStaticMembers(double newRadius) {\n",
    "    \n",
    "        radius = newRadius;\n",
    "        numberOfObjects++;\n",
    "    \n",
    "    }\n",
    "    \n",
    "    /** Return numberOfObjects */\n",
    "    static int getNumberOfObjects() {\n",
    "    \n",
    "        return numberOfObjects;\n",
    "    \n",
    "    }\n",
    "    \n",
    "    /** Return the area of this circle */\n",
    "    double getArea() {\n",
    "        \n",
    "        return radius * radius * Math.PI;\n",
    "    \n",
    "    }\n",
    "    \n",
    "}"
   ]
  },
  {
   "cell_type": "code",
   "execution_count": null,
   "metadata": {},
   "outputs": [],
   "source": [
    "public class TestCircleWithStaticMembers {\n",
    "\n",
    "    /** Main method */\n",
    "    public static void main(String[] args) {\n",
    "    \n",
    "        System.out.println(\"Before creating objects\");\n",
    "        \n",
    "        System.out.println(\"The number of Circle objects is \" + CircleWithStaticMembers.numberOfObjects);\n",
    "        \n",
    "        // Create c1\n",
    "        CircleWithStaticMembers c1 = new CircleWithStaticMembers();\n",
    "        \n",
    "        // Display c1 BEFORE c2 is created\n",
    "        System.out.println(\"\\nAfter creating c1\");\n",
    "        \n",
    "        System.out.println(\"c1: radius (\" + c1.radius + \") and number of Circle objects (\" + \n",
    "        c1.numberOfObjects + \")\");\n",
    "        \n",
    "        \n",
    "        // Create c2\n",
    "        CircleWithStaticMembers c2 = new CircleWithStaticMembers(5);\n",
    "        \n",
    "        // Modify c1\n",
    "        c1.radius = 9;\n",
    "        \n",
    "        // Display c1 and c2 AFTER c2 was created\n",
    "        System.out.println(\"\\nAfter creating c2 and modifying c1\");\n",
    "        \n",
    "        System.out.println(\"c1: radius (\" + c1.radius + \") and number of Circle objects (\" +\n",
    "        c1.numberOfObjects + \")\");\n",
    "        \n",
    "        System.out.println(\"c2: radius (\" + c2.radius + \") and number of Circle objects (\" +\n",
    "        c2.numberOfObjects + \")\");\n",
    "        \n",
    "    }\n",
    "    \n",
    "}"
   ]
  }
 ],
 "metadata": {
  "kernelspec": {
   "display_name": "Java",
   "language": "java",
   "name": "java"
  },
  "language_info": {
   "codemirror_mode": "java",
   "file_extension": ".java",
   "mimetype": "text/x-java-source",
   "name": "Java",
   "pygments_lexer": "java",
   "version": "10.0.2+13"
  }
 },
 "nbformat": 4,
 "nbformat_minor": 2
}
