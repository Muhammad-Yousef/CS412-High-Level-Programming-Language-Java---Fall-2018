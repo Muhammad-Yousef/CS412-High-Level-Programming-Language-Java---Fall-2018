{
 "cells": [
  {
   "cell_type": "markdown",
   "metadata": {},
   "source": [
    "# The Main function\n",
    "\n",
    "- All Java applications begin execution by calling main( ).\n",
    "- main( ) must be declared as <b>public</b>, since it must be called by code outside of its class when the program is started.\n",
    "- The keyword <b>static</b> allows main( ) to be called without having to instantiate a particular instance of the class. This is necessary since main( ) is called by the Java Virtual Machine before any objects are made.\n",
    "- The keyword <b>void</b> simply tells the compiler that main( ) does not return a value.\n",
    "- In main( ), there is only one parameter, albeit a complicated one. <b>String[] args</b> declares a parameter named args, which is an array of instances of the class String. In this case, args receives any command-line arguments present when the program is executed."
   ]
  },
  {
   "cell_type": "code",
   "execution_count": null,
   "metadata": {},
   "outputs": [],
   "source": [
    "public class Main{\n",
    "    \n",
    "    public static void main(String[] args){\n",
    "        // Code to be executed ...\n",
    "    }\n",
    "    \n",
    "}"
   ]
  },
  {
   "cell_type": "markdown",
   "metadata": {},
   "source": [
    "## Documentation Comments\n",
    "\n",
    "- This type of comment is used to produce an HTML file that documents your program."
   ]
  },
  {
   "cell_type": "code",
   "execution_count": null,
   "metadata": {},
   "outputs": [],
   "source": [
    "/**\n",
    "    Some text here ...\n",
    "*/"
   ]
  },
  {
   "cell_type": "markdown",
   "metadata": {},
   "source": [
    "## Assignment Operator\n",
    "\n",
    "- The assignment operator does have one interesting attribute that you may not be familiar with: it allows you to create a <b>chain of assignments</b>:"
   ]
  },
  {
   "cell_type": "code",
   "execution_count": null,
   "metadata": {},
   "outputs": [],
   "source": [
    "int a, b, c;\n",
    "a = b = c = 100; // Set a, b and c to 100\n",
    "\n",
    "System.out.println(a);\n",
    "System.out.println(b);\n",
    "System.out.println(c);"
   ]
  },
  {
   "cell_type": "markdown",
   "metadata": {},
   "source": [
    "# UTF-8"
   ]
  },
  {
   "cell_type": "code",
   "execution_count": null,
   "metadata": {},
   "outputs": [],
   "source": [
    "public class A {\n",
    "\n",
    "    int س = 5;\n",
    "\n",
    "    void داله(){\n",
    "        System.out.println(س);\n",
    "    }\n",
    "\n",
    "}"
   ]
  },
  {
   "cell_type": "code",
   "execution_count": null,
   "metadata": {},
   "outputs": [],
   "source": [
    "A a = new A();\n",
    "a.داله();"
   ]
  },
  {
   "cell_type": "markdown",
   "metadata": {},
   "source": [
    "# Literals"
   ]
  },
  {
   "cell_type": "markdown",
   "metadata": {},
   "source": [
    "- Octal values are denoted in Java by a leading zero. Normal decimal numbers cannot have a leading zero. Thus, the seemingly valid value 09 will produce an error from the compiler, since 9 is outside of octal’s 0 to 7 range."
   ]
  },
  {
   "cell_type": "code",
   "execution_count": 31,
   "metadata": {},
   "outputs": [
    {
     "ename": "CompilationException",
     "evalue": "",
     "output_type": "error",
     "traceback": [
      "\u001b[1m\u001b[30m|   \u001b[1m\u001b[30mint x = \u001b[0m\u001b[1m\u001b[30m\u001b[41m\u001b[0m\u001b[1m\u001b[30m09;\u001b[0m",
      "\u001b[1m\u001b[31minteger number too large: 09\u001b[0m",
      ""
     ]
    }
   ],
   "source": [
    "// Error: Because it has treated it as an octal\n",
    "    \n",
    "int x = 09;\n",
    "\n",
    "System.out.println(x);"
   ]
  },
  {
   "cell_type": "markdown",
   "metadata": {},
   "source": [
    "- You signify a hexadecimal constant with a leading zero-x, (0x or 0X)."
   ]
  },
  {
   "cell_type": "code",
   "execution_count": 32,
   "metadata": {},
   "outputs": [
    {
     "name": "stdout",
     "output_type": "stream",
     "text": [
      "16\n",
      "10\n"
     ]
    }
   ],
   "source": [
    "int x = 0x10;\n",
    "int y = 0xA;\n",
    "\n",
    "System.out.println(x);\n",
    "System.out.println(y);"
   ]
  },
  {
   "cell_type": "markdown",
   "metadata": {},
   "source": [
    "- <b>Beginning with JDK 7</b>, you can also specify integer literals using binary. To do so, prefix the value with 0b or 0B."
   ]
  },
  {
   "cell_type": "code",
   "execution_count": 33,
   "metadata": {},
   "outputs": [
    {
     "name": "stdout",
     "output_type": "stream",
     "text": [
      "7\n"
     ]
    }
   ],
   "source": [
    "int x = 0b0111;\n",
    "\n",
    "System.out.println(x);"
   ]
  },
  {
   "cell_type": "markdown",
   "metadata": {},
   "source": [
    "## Inline-If Statement [Ternary Operator]\n",
    "\n",
    "- expression1 ? expression2 : expression3"
   ]
  },
  {
   "cell_type": "markdown",
   "metadata": {},
   "source": [
    "- Here, expression1 can be any expression that evaluates to a boolean value. If expression1 is true, then expression2 is evaluated; otherwise, expression3 is evaluated. \n",
    "- <b>Both expression2 and expression3 are required</b> to return the same (or compatible) type, which can’t be void."
   ]
  },
  {
   "cell_type": "code",
   "execution_count": 38,
   "metadata": {},
   "outputs": [
    {
     "name": "stdout",
     "output_type": "stream",
     "text": [
      "5\n"
     ]
    }
   ],
   "source": [
    "// Get absolute value of x\n",
    "\n",
    "int x = -5;\n",
    "\n",
    "x = x < 0? -x : x;\n",
    "\n",
    "System.out.println(x);"
   ]
  },
  {
   "cell_type": "markdown",
   "metadata": {},
   "source": [
    "## For-Each\n",
    "\n",
    "- A for-each style loop is designed to cycle through a collection of objects, such as an array, in strictly\n",
    "sequential fashion, from start to finish\n",
    "- Foreach <b>can't change [set] array values</b>, it only takes a copy.\n",
    "- The enhanced version of the for also works on multidimensional arrays"
   ]
  },
  {
   "cell_type": "markdown",
   "metadata": {},
   "source": [
    "for(type itr-var : collection)\n",
    "    \n",
    "    statement-block"
   ]
  },
  {
   "cell_type": "markdown",
   "metadata": {},
   "source": [
    "- Here, type specifies the type and itr-var specifies the name of an iteration variable that will receive the elements from a collection, one at a time, from beginning to end\n",
    "- Because the iteration variable receives values from the collection, type must be the same as (or compatible with) the elements stored in the collection. Thus, when iterating over arrays, type must be compatible with the element type of the array."
   ]
  },
  {
   "cell_type": "code",
   "execution_count": 48,
   "metadata": {},
   "outputs": [
    {
     "name": "stdout",
     "output_type": "stream",
     "text": [
      "15\n"
     ]
    }
   ],
   "source": [
    "int x[] = {1, 2, 3, 4, 5};\n",
    "int sum = 0;\n",
    "\n",
    "for(int i : x)\n",
    "    sum += i;\n",
    "\n",
    "System.out.println(sum)"
   ]
  },
  {
   "cell_type": "markdown",
   "metadata": {},
   "source": [
    "### Using break as a Form of Goto\n",
    "\n",
    "- Java does not have goto statement because it provides a way to branch in an arbitrary and unstructured manner\n",
    "- There are, however, a few places where the goto is a valuable and legitimate construct for flow control. For example, the goto can be useful when you are exiting from a deeply nested set of loops. To handle such situations, Java defines an expanded form of the break statement.\n",
    "- The general form of the labeled break statement is shown here: break label;\n",
    "- To name a block, put a label at the start of it.\n",
    "- A label is any valid Java identifier followed by a colon\n",
    "- Most often, label is the name of a label that identifies a block of code. This can be a standalone block of code but it can also be a block that is the target of another statement"
   ]
  },
  {
   "cell_type": "markdown",
   "metadata": {},
   "source": [
    "## Variable-length Arguments\n",
    "\n",
    "- <b>Beginning with JDK 5</b>, Java has included a feature that simplifies the creation of methods that need to take a variable number of arguments. This feature is called varargs and it is short for variable-length arguments."
   ]
  },
  {
   "cell_type": "markdown",
   "metadata": {},
   "source": [
    "- A variable-length argument is specified by three periods (...)."
   ]
  },
  {
   "cell_type": "code",
   "execution_count": 63,
   "metadata": {},
   "outputs": [],
   "source": [
    "// Demonstrate variable-length arguments.\n",
    "\n",
    "class A {\n",
    "\n",
    "    void vaTest(int ... v) {\n",
    "    \n",
    "        System.out.print(\"Number of args: \" + v.length + \" Contents: \");\n",
    "        \n",
    "        for(int x : v)\n",
    "            System.out.print(x + \" \");\n",
    "            \n",
    "        System.out.println();\n",
    "        \n",
    "    }\n",
    "    \n",
    "}"
   ]
  },
  {
   "cell_type": "code",
   "execution_count": 64,
   "metadata": {},
   "outputs": [
    {
     "name": "stdout",
     "output_type": "stream",
     "text": [
      "Number of args: 1 Contents: 10 \n",
      "Number of args: 3 Contents: 1 2 3 \n",
      "Number of args: 0 Contents: \n"
     ]
    }
   ],
   "source": [
    "A a = new a();\n",
    "\n",
    "// 1 arg\n",
    "a.vaTest(10);\n",
    "\n",
    "// 3 args\n",
    "a.vaTest(1, 2, 3);\n",
    "\n",
    "// no args\n",
    "a.vaTest();"
   ]
  }
 ],
 "metadata": {
  "kernelspec": {
   "display_name": "Python 3",
   "language": "python",
   "name": "python3"
  },
  "language_info": {
   "codemirror_mode": {
    "name": "ipython",
    "version": 3
   },
   "file_extension": ".py",
   "mimetype": "text/x-python",
   "name": "python",
   "nbconvert_exporter": "python",
   "pygments_lexer": "ipython3",
   "version": "3.6.6"
  }
 },
 "nbformat": 4,
 "nbformat_minor": 2
}
