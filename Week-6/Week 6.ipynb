{
 "cells": [
  {
   "cell_type": "markdown",
   "metadata": {},
   "source": [
    "## Instance Variable hiding"
   ]
  },
  {
   "cell_type": "markdown",
   "metadata": {},
   "source": [
    "- It is <b>illegal</b> in Java to declare <b>two local variables</b> with <b>the same name</b> inside the same or enclosing scopes."
   ]
  },
  {
   "cell_type": "code",
   "execution_count": null,
   "metadata": {},
   "outputs": [],
   "source": [
    "int x = 10;\n",
    "\n",
    "boolean x = true; // Illegal"
   ]
  },
  {
   "cell_type": "markdown",
   "metadata": {},
   "source": [
    "- Interestingly, you can have local variables, including formal parameters to methods, which overlap with the names of the class’ instance variables. \n",
    "- However, when a local variable has the same name as an instance variable, <b>the local variable hides the instance variable</b>\n",
    "- Because <b>this</b> lets you refer directly to the object, you can use it to resolve any namespace collisions that might occur between instance variables and local variables"
   ]
  },
  {
   "cell_type": "code",
   "execution_count": 11,
   "metadata": {},
   "outputs": [],
   "source": [
    "// x won't set to 5, it will still in its default value = 0\n",
    "// The compiler will ignore the confused line\n",
    "\n",
    "class A {\n",
    "\n",
    "    int x;\n",
    "\n",
    "    public void setX(int x){\n",
    "        x = x;\n",
    "    }\n",
    "\n",
    "    public void getX(){\n",
    "        System.out.println(x);\n",
    "    }\n",
    "    \n",
    "}"
   ]
  },
  {
   "cell_type": "code",
   "execution_count": 12,
   "metadata": {},
   "outputs": [
    {
     "name": "stdout",
     "output_type": "stream",
     "text": [
      "0\n"
     ]
    }
   ],
   "source": [
    "A a = new A();\n",
    "a.setX(5);\n",
    "a.getX();"
   ]
  },
  {
   "cell_type": "code",
   "execution_count": 13,
   "metadata": {},
   "outputs": [],
   "source": [
    "class A {\n",
    "\n",
    "    int x;\n",
    "\n",
    "    public void setX(int x){\n",
    "        this.x = x;\n",
    "    }\n",
    "\n",
    "    public void getX(){\n",
    "        System.out.println(x);\n",
    "    }\n",
    "}"
   ]
  },
  {
   "cell_type": "code",
   "execution_count": 14,
   "metadata": {},
   "outputs": [
    {
     "name": "stdout",
     "output_type": "stream",
     "text": [
      "5\n"
     ]
    }
   ],
   "source": [
    "A a = new A();\n",
    "a.setX(5);\n",
    "a.getX();"
   ]
  },
  {
   "cell_type": "markdown",
   "metadata": {},
   "source": [
    "# Inheritance\n",
    "\n",
    "- Inheritance is one of <b>the cornerstones</b> of object-oriented programming because it allows the creation of hierarchical classifications\n",
    "- Using inheritance, you can create a general class that defines traits common to a set of related items. This class can then be inherited by other, more specific classes, each adding those things that are unique to it\n",
    "- <b>In the terminology of Java</b>, a class that is inherited is called a <b>superclass</b>. The class that does the inheriting is called a <b>subclass</b>.\n",
    "- Being a superclass for a subclass <b>does not mean</b> that the superclass cannot be used by itself. <b>Further</b>, a subclass <b>can be</b> a superclass for another subclass.\n",
    "- Java <b>does not support</b> the inheritance of multiple superclasses into a single subclass.\n",
    "- To inherit a class, you simply incorporate the definition of one class into another by using the <b>extends</b> keyword."
   ]
  },
  {
   "cell_type": "markdown",
   "metadata": {},
   "source": [
    "class subclass-name extends superclass-name {\n",
    "    \n",
    "    // body of class\n",
    "}"
   ]
  },
  {
   "cell_type": "code",
   "execution_count": null,
   "metadata": {},
   "outputs": [],
   "source": [
    "class B extends A{\n",
    "    \n",
    "}"
   ]
  },
  {
   "cell_type": "markdown",
   "metadata": {},
   "source": [
    "## Example"
   ]
  },
  {
   "cell_type": "code",
   "execution_count": null,
   "metadata": {},
   "outputs": [],
   "source": [
    "// Create a superclass.\n",
    "\n",
    "class A {\n",
    "    \n",
    "    int i = 1\n",
    "    \n",
    "    void showA() {\n",
    "        System.out.println(i);\n",
    "    }\n",
    "    \n",
    "}"
   ]
  },
  {
   "cell_type": "code",
   "execution_count": null,
   "metadata": {},
   "outputs": [],
   "source": [
    "// Create a subclass by extending class A.\n",
    "\n",
    "class B extends A {\n",
    "    \n",
    "    int j = 2;\n",
    "    \n",
    "    void showB() {\n",
    "        \n",
    "        System.out.println(j);\n",
    "    \n",
    "    }\n",
    "    \n",
    "    void sum() {\n",
    "        \n",
    "        System.out.println(i + j);\n",
    "    \n",
    "    }\n",
    "    \n",
    "}"
   ]
  },
  {
   "cell_type": "markdown",
   "metadata": {},
   "source": [
    "## Super\n",
    "\n",
    "- Whenever a subclass needs to refer to its immediate superclass, it can do so by use of the keyword <b>super</b>\n",
    "- super has two general forms\n",
    "    1. The first calls the superclass’ constructor.\n",
    "    2. The second is used to access a member of the superclass that has been hidden by a member of a subclass"
   ]
  },
  {
   "cell_type": "markdown",
   "metadata": {},
   "source": [
    "- A subclass can call a constructor defined by its superclass by use of the following form of\n",
    "super:"
   ]
  },
  {
   "cell_type": "markdown",
   "metadata": {},
   "source": [
    "super(Parameter1, parameter2, ...)"
   ]
  },
  {
   "cell_type": "markdown",
   "metadata": {},
   "source": [
    "- super( ) must always be <b>the first statement</b> executed inside a subclass’ constructor."
   ]
  },
  {
   "cell_type": "markdown",
   "metadata": {},
   "source": [
    "- The second form of super acts somewhat like <b>this</b>, except that it always refers to the superclass of the subclass in which it is used.\n",
    "- This usage has the following general form:"
   ]
  },
  {
   "cell_type": "markdown",
   "metadata": {},
   "source": [
    "super.member"
   ]
  },
  {
   "cell_type": "markdown",
   "metadata": {},
   "source": [
    "- Here, member can be either a method or an instance variable.\n",
    "- This second form of super is most applicable to situations in which member names of a subclass hide members by the same name in the superclass"
   ]
  },
  {
   "cell_type": "code",
   "execution_count": 19,
   "metadata": {},
   "outputs": [],
   "source": [
    "// Using super to overcome name hiding.\n",
    "\n",
    "class A {\n",
    "    \n",
    "    int i;\n",
    "    \n",
    "}"
   ]
  },
  {
   "cell_type": "code",
   "execution_count": 20,
   "metadata": {},
   "outputs": [],
   "source": [
    "class B extends A {\n",
    "    \n",
    "    int i; // this i hides the i in A\n",
    "    \n",
    "    B(int a, int b) {\n",
    "        \n",
    "        super.i = a; // i in A\n",
    "        i = b; // i in B\n",
    "        \n",
    "    }\n",
    "    \n",
    "    void show() {\n",
    "        \n",
    "        System.out.println(\"i in superclass: \" + super.i);\n",
    "        System.out.println(\"i in subclass: \" + i);\n",
    "        \n",
    "    }\n",
    "    \n",
    "\n",
    "}"
   ]
  },
  {
   "cell_type": "code",
   "execution_count": 21,
   "metadata": {
    "scrolled": true
   },
   "outputs": [
    {
     "name": "stdout",
     "output_type": "stream",
     "text": [
      "i in superclass: 1\n",
      "i in subclass: 2\n"
     ]
    }
   ],
   "source": [
    "B b = new B(1, 2);\n",
    "b.show();"
   ]
  },
  {
   "cell_type": "markdown",
   "metadata": {},
   "source": [
    "## Constructors Execution Order\n",
    "\n",
    "- When a class hierarchy is created, in what order are the constructors for the classes that make up the hierarchy executed?\n",
    "- For example, given a subclass called B and a superclass called A, is A’s constructor executed before B’s, or vice versa?\n",
    "- The answer is that in a class hierarchy, constructors complete their execution in order of derivation, <b>from superclass to subclass</b>.\n",
    "- Further, since super( ) must be the first statement executed in a subclass’ constructor, this order is the same whether or not super( ) is used. If super( ) is not used, then the default or parameterless constructor of each superclass will be executed."
   ]
  },
  {
   "cell_type": "code",
   "execution_count": 22,
   "metadata": {},
   "outputs": [],
   "source": [
    "// Demonstrate when constructors are executed.\n",
    "\n",
    "class A {\n",
    "    \n",
    "    A() {\n",
    "        System.out.println(\"Inside A's constructor.\");\n",
    "    }\n",
    "    \n",
    "}"
   ]
  },
  {
   "cell_type": "code",
   "execution_count": 23,
   "metadata": {},
   "outputs": [],
   "source": [
    "class B extends A {\n",
    "    \n",
    "    B() {\n",
    "        System.out.println(\"Inside B's constructor.\");\n",
    "    }\n",
    "    \n",
    "}"
   ]
  },
  {
   "cell_type": "code",
   "execution_count": 24,
   "metadata": {},
   "outputs": [],
   "source": [
    "class C extends B {\n",
    "    \n",
    "    C() {\n",
    "        System.out.println(\"Inside C's constructor.\");\n",
    "    }\n",
    "    \n",
    "}"
   ]
  },
  {
   "cell_type": "code",
   "execution_count": 25,
   "metadata": {},
   "outputs": [
    {
     "name": "stdout",
     "output_type": "stream",
     "text": [
      "Inside A's constructor.\n",
      "Inside B's constructor.\n",
      "Inside C's constructor.\n"
     ]
    }
   ],
   "source": [
    "C c = new C();"
   ]
  },
  {
   "cell_type": "markdown",
   "metadata": {},
   "source": [
    "## Function Overloading\n",
    "\n",
    "- In Java, it is possible to define two or more methods <b>within the same class</b> that share the <b>same name</b>, <b>as long as</b> their parameter declarations are <b>different</b>.\n",
    "- When an overloaded method is invoked, Java uses <b>the type and/or number of arguments</b> as its guide to determine which version of the overloaded method to actually call. Thus, overloaded methods must differ in the type and/or number of their parameters.\n",
    "- overloaded methods may have different return types, the return type alone is <b>insufficient</b> to distinguish two versions of a method\n",
    "- Method overloading is one of the ways that Java supports polymorphism."
   ]
  },
  {
   "cell_type": "code",
   "execution_count": 65,
   "metadata": {},
   "outputs": [],
   "source": [
    "class A {\n",
    "    \n",
    "    void test() {\n",
    "        System.out.println(\"No parameters\");\n",
    "    }\n",
    "\n",
    "    void test(int a) {\n",
    "        System.out.println(\"a: \" + a);\n",
    "    }\n",
    "    \n",
    "    double test(double a) {\n",
    "        System.out.println(\"double a: \" + a);\n",
    "        return a * a;\n",
    "    }\n",
    "    \n",
    "    void test(int a, int b) {\n",
    "        System.out.println(\"a and b: \" + a + \" \" + b);\n",
    "    }\n",
    "    \n",
    "\n",
    "}"
   ]
  },
  {
   "cell_type": "code",
   "execution_count": null,
   "metadata": {},
   "outputs": [],
   "source": [
    "A a = new A();\n",
    "\n",
    "double result;\n",
    "\n",
    "a.test();\n",
    "a.test(10);\n",
    "a.test(123.25);\n",
    "a.test(10, 20);"
   ]
  },
  {
   "cell_type": "markdown",
   "metadata": {},
   "source": [
    "## Function Overriding\n",
    "\n",
    "- In a class hierarchy, when a method in a subclass has the same name and type signature as a method in its superclass, then the method in the subclass is said to override the method in the superclass.\n",
    "- When an overridden method is called from within its subclass, it will always refer to the version of that method defined by the subclass. The version of the method defined by the superclass will be hidden\n",
    "- Using the keyword <b>final</b> with a method means that this function can't be overriden"
   ]
  },
  {
   "cell_type": "code",
   "execution_count": 67,
   "metadata": {},
   "outputs": [],
   "source": [
    "class A {\n",
    "    \n",
    "    int i, j;\n",
    "    \n",
    "    A(int a, int b) {\n",
    "        i = a;\n",
    "        j = b;\n",
    "    }\n",
    "    \n",
    "    void show() {\n",
    "        System.out.println(i);\n",
    "        System.out.println(j);\n",
    "    }\n",
    "    \n",
    "}"
   ]
  },
  {
   "cell_type": "code",
   "execution_count": 68,
   "metadata": {},
   "outputs": [],
   "source": [
    "class B extends A {    \n",
    "    \n",
    "    int k;\n",
    "    \n",
    "    B(int a, int b, int c) {\n",
    "        super(a, b);\n",
    "        k = c;\n",
    "    }\n",
    "    \n",
    "    void show() {\n",
    "        System.out.println(k);\n",
    "    }\n",
    "    \n",
    "}"
   ]
  },
  {
   "cell_type": "code",
   "execution_count": 69,
   "metadata": {},
   "outputs": [
    {
     "name": "stdout",
     "output_type": "stream",
     "text": [
      "k: 3\n"
     ]
    }
   ],
   "source": [
    "B b = new B(1, 2, 3);\n",
    "b.show(); // this calls show() in B"
   ]
  },
  {
   "cell_type": "markdown",
   "metadata": {},
   "source": [
    "- Method overriding occurs <b>only</b> when the names and the type signatures of the two methods are <b>identical</b>. If they are not, then the two methods are simply <b>overloaded</b>"
   ]
  },
  {
   "cell_type": "code",
   "execution_count": 70,
   "metadata": {},
   "outputs": [],
   "source": [
    "// Methods with differing type signatures are overloaded – not overridden.\n",
    "\n",
    "class A {\n",
    "    \n",
    "    int i, j;\n",
    "    \n",
    "    A(int a, int b) {\n",
    "        i = a;\n",
    "        j = b;\n",
    "    }\n",
    "    \n",
    "    void show() {\n",
    "        System.out.println(i);\n",
    "        System.out.println(j);\n",
    "    }\n",
    "}"
   ]
  },
  {
   "cell_type": "code",
   "execution_count": 71,
   "metadata": {},
   "outputs": [],
   "source": [
    "class B extends A {\n",
    "    \n",
    "    int k;\n",
    "\n",
    "    B(int a, int b, int c) {\n",
    "        super(a, b);\n",
    "        k = c;\n",
    "    }\n",
    "    \n",
    "    void show(String msg) {\n",
    "        System.out.println(msg + k);\n",
    "    }\n",
    "    \n",
    "}"
   ]
  },
  {
   "cell_type": "code",
   "execution_count": 72,
   "metadata": {
    "scrolled": true
   },
   "outputs": [
    {
     "name": "stdout",
     "output_type": "stream",
     "text": [
      "This is k: 3\n",
      "i and j: 1 2\n"
     ]
    }
   ],
   "source": [
    "B b = new B(1, 2, 3);\n",
    "b.show(\"This is k: \"); // this calls show() in B\n",
    "b.show(); // this calls show() in A"
   ]
  },
  {
   "cell_type": "markdown",
   "metadata": {},
   "source": [
    "# Questions"
   ]
  },
  {
   "cell_type": "markdown",
   "metadata": {},
   "source": [
    "## What is the output of running the class C?"
   ]
  },
  {
   "cell_type": "code",
   "execution_count": null,
   "metadata": {},
   "outputs": [],
   "source": [
    "class A{\n",
    "    \n",
    "    public A(){\n",
    "        System.out.println(\"A's no-arg constructor is invoked\");\n",
    "    }\n",
    "    \n",
    "    \n",
    "}\n",
    "\n",
    "class B extends A{\n",
    "    \n",
    "    \n",
    "    \n",
    "}\n",
    "\n",
    "public class C {\n",
    "    \n",
    "    public static void main(String[] args){\n",
    "        \n",
    "        B b = new B();\n",
    "        \n",
    "    }\n",
    "    \n",
    "}"
   ]
  },
  {
   "cell_type": "markdown",
   "metadata": {},
   "source": [
    "## What problem arises in compiling the program?"
   ]
  },
  {
   "cell_type": "code",
   "execution_count": null,
   "metadata": {},
   "outputs": [],
   "source": [
    "class A{\n",
    "    \n",
    "    public A(int x){\n",
    "        \n",
    "    }\n",
    "    \n",
    "}\n",
    "\n",
    "class B extends A{\n",
    "    \n",
    "    public B(){\n",
    "        \n",
    "    }\n",
    "    \n",
    "}\n",
    "\n",
    "public class C {\n",
    "    \n",
    "    public static void main(String[] args){\n",
    "        \n",
    "        B b = new B();\n",
    "        \n",
    "    }\n",
    "    \n",
    "}"
   ]
  },
  {
   "cell_type": "markdown",
   "metadata": {},
   "source": [
    "## Overloading Vs. Overriding"
   ]
  },
  {
   "cell_type": "code",
   "execution_count": null,
   "metadata": {},
   "outputs": [],
   "source": [
    "public class Test{\n",
    "    \n",
    "    public static void main(String[] args){\n",
    "        \n",
    "        A a = new A();\n",
    "        a.p(10);\n",
    "        a.p(10.0);\n",
    "        \n",
    "    }\n",
    "    \n",
    "}\n",
    "\n",
    "class B{\n",
    "    \n",
    "    public void p(double i){\n",
    "        \n",
    "        System.out.println(i * 2);\n",
    "        \n",
    "    }\n",
    "    \n",
    "}\n",
    "\n",
    "class A extends B {\n",
    "    \n",
    "    // This method overrides the method in B\n",
    "    public void p(double i){\n",
    "        System.out.println(i);\n",
    "    }\n",
    "    \n",
    "}"
   ]
  },
  {
   "cell_type": "code",
   "execution_count": null,
   "metadata": {},
   "outputs": [],
   "source": [
    "public class Test {\n",
    "    \n",
    "    public static void main(String[] args){\n",
    "        \n",
    "        A a = new A();\n",
    "        a.p(10);\n",
    "        a.p(10.0);\n",
    "        \n",
    "    }\n",
    "    \n",
    "}\n",
    "\n",
    "class B {\n",
    "    \n",
    "    public void p(double i){\n",
    "        \n",
    "        System.out.println(i * 2);\n",
    "        \n",
    "    }\n",
    "    \n",
    "}\n",
    "\n",
    "class A extends B {\n",
    "    \n",
    "    // This method overloads the method in B\n",
    "    \n",
    "    public void p(int i){\n",
    "        System.out.println(i);\n",
    "    }\n",
    "    \n",
    "}"
   ]
  },
  {
   "cell_type": "code",
   "execution_count": null,
   "metadata": {},
   "outputs": [],
   "source": []
  }
 ],
 "metadata": {
  "kernelspec": {
   "display_name": "Python 3",
   "language": "python",
   "name": "python3"
  },
  "language_info": {
   "codemirror_mode": {
    "name": "ipython",
    "version": 3
   },
   "file_extension": ".py",
   "mimetype": "text/x-python",
   "name": "python",
   "nbconvert_exporter": "python",
   "pygments_lexer": "ipython3",
   "version": "3.6.6"
  }
 },
 "nbformat": 4,
 "nbformat_minor": 2
}
