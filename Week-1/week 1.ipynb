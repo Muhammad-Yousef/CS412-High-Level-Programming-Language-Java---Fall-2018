{
 "cells": [
  {
   "cell_type": "markdown",
   "metadata": {},
   "source": [
    "<center><h1>Week 1</h1></center>"
   ]
  },
  {
   "cell_type": "markdown",
   "metadata": {},
   "source": [
    "# Generals\n",
    "\n",
    "- In Java, all code <b>must</b> reside inside a <b>class</b>.\n",
    "- The name of the .java file must be <b>the same name</b> of its contained class. You should also make sure that the <b>capitalization</b> of the filename <b>matches</b> the class name.\n",
    "- One Java file can consist of <b>multiple classes</b> with the restriction that <b>only one</b> of them can be <b>public</b>.\n",
    "- Java is a <b>free-form language</b>. This means that you do not need to follow any special indentation rules. <b>[unlike Python]</b>\n",
    "- Java <b>does not have</b> a goto statement because it provides a way to branch in an arbitrary and unstructured manner\n",
    "- Java is <b>case-sensitive</b>.\n",
    "- Java supports <b>UTF-8</b>"
   ]
  },
  {
   "cell_type": "markdown",
   "metadata": {},
   "source": [
    "# Compiling a JAVA program\n",
    "\n",
    "- To compile the Example program, execute the compiler, <b>javac</b>, specifying the name of the source file on the command line, as shown here:"
   ]
  },
  {
   "cell_type": "code",
   "execution_count": null,
   "metadata": {},
   "outputs": [],
   "source": [
    "// The ! is due to the use of the command line here not the Jupyter's Java Kernel. i.e. This is not a Java code"
   ]
  },
  {
   "cell_type": "code",
   "execution_count": null,
   "metadata": {},
   "outputs": [],
   "source": [
    "! javac Main.java"
   ]
  },
  {
   "cell_type": "markdown",
   "metadata": {},
   "source": [
    "- The javac compiler creates a file called <b>Main.class</b> that contains the <b>bytecode</b> version of the program.\n",
    "- To actually run the program, you must use the <b>Java application launcher</b> called <b>java</b>. To do so, pass the class name Main as a command-line argument, as shown here:"
   ]
  },
  {
   "cell_type": "code",
   "execution_count": null,
   "metadata": {},
   "outputs": [],
   "source": [
    "! java Main"
   ]
  },
  {
   "cell_type": "markdown",
   "metadata": {},
   "source": [
    "# The Main function\n",
    "\n",
    "- All Java applications begin execution by calling <b>main( )</b>.\n",
    "- main( ) must be declared as <b>public</b>, since it must be called by code outside of its class when the program is started.\n",
    "- The keyword <b>static</b> allows main( ) to be called without having to instantiate a particular instance of the class. This is necessary since main( ) is called by the Java Virtual Machine before any objects are made.\n",
    "- The keyword <b>void</b> simply tells the compiler that main( ) does not return a value.\n",
    "- In main( ), there is only one parameter, albeit a complicated one. <b>String[] args</b> declares a parameter named args, which is an array of instances of the class String. In this case, args receives any command-line arguments present when the program is executed."
   ]
  },
  {
   "cell_type": "code",
   "execution_count": null,
   "metadata": {},
   "outputs": [],
   "source": [
    "public class Main{\n",
    "    \n",
    "    public static void main(String[] args){\n",
    "        // Code to be executed ...\n",
    "    }\n",
    "    \n",
    "}"
   ]
  },
  {
   "cell_type": "markdown",
   "metadata": {},
   "source": [
    "# Output\n",
    "\n",
    "- <b>System</b> is a predefined <b>class</b> that provides access to the system, and <b>out</b> is the output stream that is connected to the console.\n",
    "- Output is actually accomplished by the built-in <b>println()</b> method."
   ]
  },
  {
   "cell_type": "code",
   "execution_count": 3,
   "metadata": {},
   "outputs": [
    {
     "name": "stdout",
     "output_type": "stream",
     "text": [
      "Hello, World!\n"
     ]
    }
   ],
   "source": [
    "System.out.println(\"Hello, World!\");"
   ]
  },
  {
   "cell_type": "markdown",
   "metadata": {},
   "source": [
    "## Formatted Output\n"
   ]
  },
  {
   "cell_type": "code",
   "execution_count": 4,
   "metadata": {},
   "outputs": [
    {
     "name": "stdout",
     "output_type": "stream",
     "text": [
      "3.1"
     ]
    },
    {
     "data": {
      "text/plain": [
       "java.io.PrintStream@40fd41ef"
      ]
     },
     "execution_count": 4,
     "metadata": {},
     "output_type": "execute_result"
    }
   ],
   "source": [
    "double PI = 3.14;\n",
    "\n",
    "System.out.printf(\"%.1f\", PI);"
   ]
  },
  {
   "cell_type": "markdown",
   "metadata": {},
   "source": [
    "# Comments\n",
    "\n",
    "- Java supports three styles of comments"
   ]
  },
  {
   "cell_type": "markdown",
   "metadata": {},
   "source": [
    "## Single-Line Comments"
   ]
  },
  {
   "cell_type": "code",
   "execution_count": 5,
   "metadata": {},
   "outputs": [],
   "source": [
    "// System.out.println(\"Something ..\");"
   ]
  },
  {
   "cell_type": "markdown",
   "metadata": {},
   "source": [
    "## Multi-Line Comments"
   ]
  },
  {
   "cell_type": "code",
   "execution_count": 6,
   "metadata": {},
   "outputs": [],
   "source": [
    "/*\n",
    "    System.out.println(\"Something ..\");\n",
    "    System.out.print(\"Another ..\")\n",
    "\n",
    "*/"
   ]
  },
  {
   "cell_type": "markdown",
   "metadata": {},
   "source": [
    "## Documentation Comments\n",
    "\n",
    "- This type of comment is used to produce an HTML file that documents your program."
   ]
  },
  {
   "cell_type": "markdown",
   "metadata": {},
   "source": [
    "# Data Types"
   ]
  },
  {
   "cell_type": "markdown",
   "metadata": {},
   "source": [
    "## Primitive Data Types\n",
    "\n",
    "<table>\n",
    "    <tr>\n",
    "        <td><b>Name</b></td>\n",
    "        <td><b>Width</b></td>\n",
    "        <td><b>Range</b></td>\n",
    "    </tr>\n",
    "    <tr>\n",
    "        <td>byte</td>\n",
    "        <td>8</td>\n",
    "        <td>-128 to 127</td>\n",
    "    </tr>\n",
    "    <tr>\n",
    "        <td>short</td>\n",
    "        <td>16</td>\n",
    "        <td>–32,768 to 32,767</td>\n",
    "    </tr>\n",
    "    <tr>\n",
    "        <td>int</td>\n",
    "        <td>32</td>\n",
    "        <td>–2,147,483,648 to 2,147,483,647</td>\n",
    "    </tr>\n",
    "    <tr>\n",
    "        <td>long</td>\n",
    "        <td>64</td>\n",
    "        <td>–9,223,372,036,854,775,808 to 9,223,372,036,854,775,807</td>\n",
    "    </tr>\n",
    "    <tr>\n",
    "        <td>float</td>\n",
    "        <td>32</td>\n",
    "        <td>1.4e–045 to 3.4e+038</td>\n",
    "    </tr>\n",
    "    <tr>\n",
    "        <td>double</td>\n",
    "        <td>64</td>\n",
    "        <td>4.9e–324 to 1.8e+308</td>\n",
    "    </tr>\n",
    "    <tr>\n",
    "        <td>char</td>\n",
    "        <td>16</td>\n",
    "        <td>0 to 65,536</td>\n",
    "    </tr>\n",
    "    <tr>\n",
    "        <td>boolean</td>\n",
    "        <td></td>\n",
    "    </tr>\n",
    "</table>"
   ]
  },
  {
   "cell_type": "markdown",
   "metadata": {},
   "source": [
    "- The <b>primitive types</b> represent <b>single values—not complex objects</b>. Although Java is otherwise completely object-oriented, the primitive types are not. \n",
    "- They are analogous to the simple types found in most other non–object-oriented languages. The reason for this is efficiency. Making the primitive types into objects would have degraded performance too much.\n",
    "- The primitive types are defined to have an explicit range and mathematical behavior. Languages such as C and C++ allow the size of an integer to vary based upon the dictates of the execution environment. However, <b>Java is different.</b> Because of Java’s portability requirement, all data types have a <b>strictly defined range</b>\n",
    "- For example, an int is always 32 bits, regardless of the particular platform."
   ]
  },
  {
   "cell_type": "markdown",
   "metadata": {},
   "source": [
    "## Notes\n",
    "\n",
    "- Java <b>does not support</b> unsigned, positive-only integers.\n",
    "- One important thing to note about Java strings is that they must begin and end on the same line. There is no line-continuation escape sequence as there is in some other languages. [E.g. Python]\n",
    "- Characters in Java are <b>indices</b> into the Unicode character set. They are 16-bit values that can be converted into integers and manipulated with the integer operators, such as the addition and subtraction operators.\n",
    "- In the formal specification for Java, char is referred to as an <b>integral type</b>, which means that it is in the same general category as int, short, long, and byte. However, because its principal use is for representing Unicode characters, char is commonly considered to be in a category of its own."
   ]
  },
  {
   "cell_type": "code",
   "execution_count": 7,
   "metadata": {},
   "outputs": [
    {
     "name": "stdout",
     "output_type": "stream",
     "text": [
      "A B C D E F G H I J K L M N O P Q R S T U V W X Y Z [ \\ ] ^ _ ` a b c d e f g h i j k l m n o p q r s t u v w x y z "
     ]
    }
   ],
   "source": [
    "char x = 'A';\n",
    "\n",
    "do{\n",
    "    System.out.print(x + \" \");\n",
    "}while(x++ != 122);"
   ]
  },
  {
   "cell_type": "code",
   "execution_count": 8,
   "metadata": {},
   "outputs": [
    {
     "name": "stdout",
     "output_type": "stream",
     "text": [
      "A\n"
     ]
    }
   ],
   "source": [
    "char c = 65;\n",
    "System.out.println(c);   "
   ]
  },
  {
   "cell_type": "markdown",
   "metadata": {},
   "source": [
    "## Type Conversion and Casting\n",
    "\n",
    "- When one type of data is assigned to another type of variable, an <b>automatic type conversion</b> will take place if the following <b>two conditions</b> are met:\n",
    "    1. The two types are <b>compatible</b>.\n",
    "    2. The <b>destination</b> type is <b>larger</b> than the <b>source</b> type.\n",
    "    \n",
    "    \n",
    "- For example, the int type is always large enough to hold all valid byte values, so no explicit cast statement is required"
   ]
  },
  {
   "cell_type": "code",
   "execution_count": 1,
   "metadata": {},
   "outputs": [
    {
     "name": "stdout",
     "output_type": "stream",
     "text": [
      "125\n"
     ]
    }
   ],
   "source": [
    "byte x = 125;\n",
    "\n",
    "int y = x;\n",
    "\n",
    "System.out.println(y);"
   ]
  },
  {
   "cell_type": "markdown",
   "metadata": {},
   "source": [
    "- To create a conversion between two <b>incompatible</b> types, you must use a <b>cast</b>. A cast is simply an explicit type conversion.\n",
    "- It has this general form: (target-type) value"
   ]
  },
  {
   "cell_type": "code",
   "execution_count": 2,
   "metadata": {},
   "outputs": [
    {
     "ename": "CompilationException",
     "evalue": "",
     "output_type": "error",
     "traceback": [
      "\u001b[1m\u001b[30m|   \u001b[1m\u001b[30mint y = \u001b[0m\u001b[1m\u001b[30m\u001b[41mx\u001b[0m\u001b[1m\u001b[30m;\u001b[0m",
      "\u001b[1m\u001b[31mincompatible types: possible lossy conversion from double to int\u001b[0m",
      ""
     ]
    }
   ],
   "source": [
    "double x = 6.5245;\n",
    "\n",
    "int y = x;\n",
    "\n",
    "System.out.println(x);"
   ]
  },
  {
   "cell_type": "markdown",
   "metadata": {},
   "source": [
    "- When a float is converted to an int, its fractional component is <b>lost</b>"
   ]
  },
  {
   "cell_type": "code",
   "execution_count": 6,
   "metadata": {},
   "outputs": [
    {
     "name": "stdout",
     "output_type": "stream",
     "text": [
      "6\n"
     ]
    }
   ],
   "source": [
    "double x = 6.5245;\n",
    "\n",
    "int y = (int) x;\n",
    "\n",
    "System.out.println(y);"
   ]
  },
  {
   "cell_type": "markdown",
   "metadata": {},
   "source": [
    "- When the value 257 is cast into a byte variable, <b>the result</b> is <b>the remainder of the division</b> of 257 by 256 (the range of a byte), which is 1 in this case."
   ]
  },
  {
   "cell_type": "code",
   "execution_count": 14,
   "metadata": {},
   "outputs": [
    {
     "name": "stdout",
     "output_type": "stream",
     "text": [
      "1\n"
     ]
    }
   ],
   "source": [
    "int a = 257;\n",
    "\n",
    "byte b = (byte) a;\n",
    "\n",
    "System.out.println(b);"
   ]
  },
  {
   "cell_type": "markdown",
   "metadata": {},
   "source": [
    "### Type promotion in Expression\n",
    "\n",
    "- In addition to assignments, there is another place where certain type conversions may occur: in expressions.\n",
    "- To see why, consider the following. In an expression, the precision required of an intermediate value will sometimes exceed the range of either operand. For example, examine the following expression:"
   ]
  },
  {
   "cell_type": "code",
   "execution_count": 10,
   "metadata": {},
   "outputs": [
    {
     "name": "stdout",
     "output_type": "stream",
     "text": [
      "20\n"
     ]
    }
   ],
   "source": [
    "byte a = 40;\n",
    "byte b = 50;\n",
    "byte c = 100;\n",
    "\n",
    "int d = a * b / c;\n",
    "\n",
    "System.out.println(d);"
   ]
  },
  {
   "cell_type": "markdown",
   "metadata": {},
   "source": [
    "- The result of the intermediate term a * b easily exceeds the range of either of its byte operands. \n",
    "- To handle this kind of problem, Java automatically promotes each <b>byte</b>, <b>short</b>, or <b>char</b> operand to <b>int</b> when evaluating an expression.\n",
    "- This means that the subexpression a*b is performed <b>using integers—not bytes</b>."
   ]
  },
  {
   "cell_type": "markdown",
   "metadata": {},
   "source": [
    "- As useful as the automatic promotions are, they can cause confusing compile-time errors. For example, this seemingly correct code causes a problem:"
   ]
  },
  {
   "cell_type": "code",
   "execution_count": 17,
   "metadata": {},
   "outputs": [
    {
     "ename": "CompilationException",
     "evalue": "",
     "output_type": "error",
     "traceback": [
      "\u001b[1m\u001b[30m|   \u001b[1m\u001b[30mb = \u001b[0m\u001b[1m\u001b[30m\u001b[41mb * 2\u001b[0m\u001b[1m\u001b[30m;\u001b[0m",
      "\u001b[1m\u001b[31mincompatible types: possible lossy conversion from int to byte\u001b[0m",
      ""
     ]
    }
   ],
   "source": [
    "byte b = 50;\n",
    "b = b * 2;\n",
    "\n",
    "System.out.println(b);"
   ]
  },
  {
   "cell_type": "code",
   "execution_count": 18,
   "metadata": {},
   "outputs": [
    {
     "name": "stdout",
     "output_type": "stream",
     "text": [
      "100\n"
     ]
    }
   ],
   "source": [
    "byte b = 50;\n",
    "b = (byte) (b * 2);\n",
    "\n",
    "System.out.println(b);"
   ]
  },
  {
   "cell_type": "markdown",
   "metadata": {},
   "source": [
    "####  Type Promotion Rules:\n",
    "\n",
    "1. All <b>byte, short,</b> and <b>char</b> values are promoted to <b>int</b>.\n",
    "2. If <b>one operand</b> is a <b>long</b>, the <b>whole expression</b> is <b>promoted</b> to long.\n",
    "3. If <b>one operand</b> is a <b>float</b>, the <b>entire expression</b> is <b>promoted</b> to float.\n",
    "4. If <b>any of the operands</b> are <b>double</b>, the result is <b>double</b>."
   ]
  },
  {
   "cell_type": "code",
   "execution_count": 12,
   "metadata": {},
   "outputs": [
    {
     "name": "stdout",
     "output_type": "stream",
     "text": [
      "238.14 515 - 126.3616\n",
      "Result = 626.7784146484375\n"
     ]
    }
   ],
   "source": [
    "byte b = 42;\n",
    "char c = 'a';\n",
    "short s = 1024;\n",
    "int i = 50000;\n",
    "float f = 5.67f;\n",
    "double d = .1234;\n",
    "\n",
    "double result = (f * b) + (i / c) - (d * s);\n",
    "\n",
    "System.out.println((f * b) + \" \" + (i / c) + \" - \" + (d * s));\n",
    "System.out.println(\"Result = \" + result);"
   ]
  },
  {
   "cell_type": "markdown",
   "metadata": {},
   "source": [
    "- In the first subexpression, f * b, b is promoted to a <b>float</b> and the result of the subexpression is <b>float</b>. \n",
    "- Next, in the subexpression i/c, c is promoted to <b>int</b>, and the result is of type <b>int</b>.\n",
    "- Then, in d * s, the value of s is promoted to <b>double</b>, and the type of the subexpression is <b>double</b>. \n",
    "- Finally, these three intermediate values, <b>float</b>, <b>int</b>, and <b>double</b>, are considered. \n",
    "- The outcome of <b>float</b> plus an <b>int</b> is a <b>float</b>. \n",
    "- Then the resultant <b>float</b> minus the last <b>double</b> is promoted to <b>double</b>, which is the type for the final result of the expression."
   ]
  },
  {
   "cell_type": "markdown",
   "metadata": {},
   "source": [
    "# Operators"
   ]
  },
  {
   "cell_type": "markdown",
   "metadata": {},
   "source": [
    "## Assignment Operator\n",
    "\n",
    "- The assignment operator does have one interesting attribute that you may not be familiar with: it allows you to create a <b>chain of assignments</b>:"
   ]
  },
  {
   "cell_type": "code",
   "execution_count": null,
   "metadata": {},
   "outputs": [],
   "source": [
    "int a, b, c;\n",
    "a = b = c = 100; // Set a, b and c to 100\n",
    "\n",
    "System.out.println(a);\n",
    "System.out.println(b);\n",
    "System.out.println(c);"
   ]
  },
  {
   "cell_type": "markdown",
   "metadata": {},
   "source": [
    "## Arithmetic Operators\n",
    "\n",
    "<table>\n",
    "    <tr>\n",
    "        <td>Operator</td>\n",
    "        <td>Result</td>\n",
    "    </tr>\n",
    "    <tr>\n",
    "        <td>+</td>\n",
    "        <td>Addition [Also unary plus]</td>\n",
    "    </tr>\n",
    "    <tr>\n",
    "        <td>-</td>\n",
    "        <td>Subtraction [Also unary minus]</td>\n",
    "    </tr>\n",
    "    <tr>\n",
    "        <td>*</td>\n",
    "        <td>Multiplication</td>\n",
    "    </tr>\n",
    "    <tr>\n",
    "        <td>/</td>\n",
    "        <td>Division</td>\n",
    "    </tr>\n",
    "    <tr>\n",
    "        <td>%</td>\n",
    "        <td>Modulus</td>\n",
    "    </tr>\n",
    "    <tr>\n",
    "        <td>++</td>\n",
    "        <td>Increment</td>\n",
    "    </tr>\n",
    "    <tr>\n",
    "        <td>--</td>\n",
    "        <td>Decrement</td>\n",
    "    </tr>\n",
    "    <tr>\n",
    "        <td>+=</td>\n",
    "        <td>Addition Assignement</td>\n",
    "    </tr>\n",
    "    <tr>\n",
    "        <td>-=</td>\n",
    "        <td>Subtraction Assignment</td>\n",
    "    </tr>\n",
    "    <tr>\n",
    "        <td>*=</td>\n",
    "        <td>Multiplication Assignment</td>\n",
    "    </tr>\n",
    "    <tr>\n",
    "        <td>/=</td>\n",
    "        <td>Division Assignement</td>\n",
    "    </tr>\n",
    "    <tr>\n",
    "        <td>%=</td>\n",
    "        <td>Modulus Assignement</td>\n",
    "    </tr>\n",
    "</table>"
   ]
  },
  {
   "cell_type": "markdown",
   "metadata": {},
   "source": [
    "- The operands of the arithmetic operators must be of a numeric type. You cannot use them on boolean types, but you can use them on char types, since the char type in Java is, essentially, a subset of int\n",
    "- Remember that when the division operator is applied to an integer type, there will be no fractional component attached to the result\n",
    "- The modulus operator, %, returns the remainder of a division operation. It can be applied to floating-point types as well as integer types."
   ]
  },
  {
   "cell_type": "markdown",
   "metadata": {},
   "source": [
    "- When the increment and/or decrement operators are part of a larger expression, then a subtle, yet powerful, difference between these two forms appears.\n",
    "- In the prefix form, the operand is incremented or decremented before the value is obtained for use in the expression.\n",
    "- In postfix form, the previous value is obtained for use in the expression, and then the operand is modified."
   ]
  },
  {
   "cell_type": "code",
   "execution_count": 2,
   "metadata": {},
   "outputs": [
    {
     "name": "stdout",
     "output_type": "stream",
     "text": [
      "10\n",
      "11\n"
     ]
    }
   ],
   "source": [
    "int x = 10;\n",
    "System.out.println(x++);\n",
    "System.out.println(x);"
   ]
  },
  {
   "cell_type": "code",
   "execution_count": 3,
   "metadata": {},
   "outputs": [
    {
     "name": "stdout",
     "output_type": "stream",
     "text": [
      "11\n",
      "11\n"
     ]
    }
   ],
   "source": [
    "int x = 10;\n",
    "System.out.println(++x);\n",
    "System.out.println(x);"
   ]
  },
  {
   "cell_type": "markdown",
   "metadata": {},
   "source": [
    "- When you divide an integer number by zero it will cause an Error, while dividing a float or double by zero will produce <b>Infinity</b>"
   ]
  },
  {
   "cell_type": "code",
   "execution_count": 6,
   "metadata": {},
   "outputs": [
    {
     "ename": "EvalException",
     "evalue": "/ by zero",
     "output_type": "error",
     "traceback": [
      "\u001b[1m\u001b[31m---------------------------------------------------------------------------\u001b[0m",
      "\u001b[1m\u001b[31mjava.lang.ArithmeticException: / by zero\u001b[0m",
      "\u001b[1m\u001b[31m\tat .(#26:1)\u001b[0m"
     ]
    }
   ],
   "source": [
    "int x = 10;\n",
    "\n",
    "System.out.println(x / 0);"
   ]
  },
  {
   "cell_type": "code",
   "execution_count": 8,
   "metadata": {},
   "outputs": [
    {
     "name": "stdout",
     "output_type": "stream",
     "text": [
      "Infinity\n"
     ]
    }
   ],
   "source": [
    "float x = 10f;\n",
    "\n",
    "System.out.println(x / 0);"
   ]
  },
  {
   "cell_type": "markdown",
   "metadata": {},
   "source": [
    "## Relational Operators\n",
    "\n",
    "<table>\n",
    "    <tr>\n",
    "        <td>Operator</td>\n",
    "        <td>Result</td>\n",
    "    </tr>\n",
    "    <tr>\n",
    "        <td>==</td>\n",
    "        <td>Equal to</td>\n",
    "    </tr>\n",
    "    <tr>\n",
    "        <td>!=</td>\n",
    "        <td>Not equal to</td>\n",
    "    </tr>\n",
    "    <tr>\n",
    "        <td>></td>\n",
    "        <td>Greater than</td>\n",
    "    </tr>\n",
    "    <tr>\n",
    "        <td><</td>\n",
    "        <td>Less than</td>\n",
    "    </tr>\n",
    "    <tr>\n",
    "        <td>>=</td>\n",
    "        <td>Greater than or equal to</td>\n",
    "    </tr>\n",
    "    <tr>\n",
    "        <td><=</td>\n",
    "        <td>Less than or equal to</td>\n",
    "    </tr>\n",
    "</table>"
   ]
  },
  {
   "cell_type": "markdown",
   "metadata": {},
   "source": [
    "- The <b>outcome</b> of these operations is a <b>boolean</b> value."
   ]
  },
  {
   "cell_type": "markdown",
   "metadata": {},
   "source": [
    "- If you are coming from a C/C++ background, please note the following. In C/C++,these types of statements are very common:"
   ]
  },
  {
   "cell_type": "code",
   "execution_count": null,
   "metadata": {},
   "outputs": [],
   "source": [
    "// C++ Code\n",
    "\n",
    "int done;\n",
    "\n",
    "\n",
    "if(!done)// Valid in C/C++\n",
    "    \n",
    "if(done)... // but not in Java."
   ]
  },
  {
   "cell_type": "code",
   "execution_count": null,
   "metadata": {},
   "outputs": [],
   "source": [
    "//In Java, these statements must be written like this:\n",
    "\n",
    "if(done == 0) \n",
    "    \n",
    "if(done != 0)"
   ]
  },
  {
   "cell_type": "markdown",
   "metadata": {},
   "source": [
    "- The reason is that Java does not define true and false in the same way as C/C++. In C/C++, true is any nonzero value and false is zero. \n",
    "- In Java, true and false are nonnumeric values that do not relate to zero or nonzero."
   ]
  },
  {
   "cell_type": "code",
   "execution_count": 5,
   "metadata": {},
   "outputs": [
    {
     "name": "stdout",
     "output_type": "stream",
     "text": [
      "This will work\n"
     ]
    }
   ],
   "source": [
    "boolean x = true;\n",
    "\n",
    "if(x)\n",
    "    System.out.println(\"This will work\");"
   ]
  },
  {
   "cell_type": "markdown",
   "metadata": {},
   "source": [
    "## Operators Precedence\n",
    "\n",
    "- Operators in the same row are equal in precedence. \n",
    "- In binary operations, the order of evaluation is <b>left to right</b> (except for <b>assignment</b>, which evaluates <b>right to left</b>).\n",
    "- Although they are technically separators, the [ ], ( ), and . can also act like operators. In that capacity, they would have the highest precedence"
   ]
  },
  {
   "cell_type": "markdown",
   "metadata": {},
   "source": [
    "<img src=\"Precedence.png\">"
   ]
  },
  {
   "cell_type": "markdown",
   "metadata": {},
   "source": [
    "# Seperators\n",
    "\n",
    "<table>\n",
    "    <tr>\n",
    "        <td>Symbol</td>\n",
    "        <td>Name</td>\n",
    "        <td>Purpose</td>\n",
    "    </tr>\n",
    "    <tr>\n",
    "        <td>()</td>\n",
    "        <td>Parentheses</td>\n",
    "        <td>Used to contain lists of parameters in method definition and\n",
    "invocation. Also used for defining precedence in expressions,\n",
    "containing expressions in control statements, and surrounding\n",
    "cast types.</td>\n",
    "    </tr>\n",
    "    <tr>\n",
    "        <td>{}</td>\n",
    "        <td>Braces</td>\n",
    "        <td>Used to contain the values of automatically initialized arrays.\n",
    "Also used to define a block of code, for classes, methods, and\n",
    "local scopes</td>\n",
    "    </tr>\n",
    "     <tr>\n",
    "        <td>[]</td>\n",
    "        <td>Brackets</td>\n",
    "        <td>Used to declare array types. Also used when dereferencing array\n",
    "values.</td>\n",
    "    </tr>\n",
    "     <tr>\n",
    "        <td>;</td>\n",
    "        <td>semicolon</td>\n",
    "        <td>Terminates statements</td>\n",
    "    </tr>\n",
    "     <tr>\n",
    "        <td>,</td>\n",
    "        <td>Comma</td>\n",
    "        <td>Separates consecutive identifiers in a variable declaration. Also\n",
    "used to chain statements together inside a for statement.</td>\n",
    "    </tr>\n",
    "     <tr>\n",
    "        <td>.</td>\n",
    "        <td>Period</td>\n",
    "        <td>Used to separate package names from subpackages and classes. Also\n",
    "used to separate a variable or method from a reference variable.</td>\n",
    "    </tr>\n",
    "    <tr>\n",
    "        <td>::</td>\n",
    "        <td>Colons</td>\n",
    "        <td>Used to create a method or constructor reference.\n",
    "(Added by JDK 8.)</td>\n",
    "    </tr>\n",
    "</table>"
   ]
  },
  {
   "cell_type": "markdown",
   "metadata": {},
   "source": [
    "# Keywords\n",
    "\n",
    "<img src=\"keywords.png\">"
   ]
  },
  {
   "cell_type": "markdown",
   "metadata": {},
   "source": [
    "- The keywords <b>const</b> and <b>goto</b> are reserved <b>but not used</b>. In the early days of Java, several other keywords were reserved for possible future use.\n",
    "- In addition to the keywords, Java reserves the following: <b>true</b>, <b>false</b>, and <b>null</b>. These are values defined by Java. You may not use these words for the names of variables, classes, and so on."
   ]
  }
 ],
 "metadata": {
  "kernelspec": {
   "display_name": "Java",
   "language": "java",
   "name": "java"
  },
  "language_info": {
   "codemirror_mode": "java",
   "file_extension": ".java",
   "mimetype": "text/x-java-source",
   "name": "Java",
   "pygments_lexer": "java",
   "version": "10.0.2+13"
  }
 },
 "nbformat": 4,
 "nbformat_minor": 2
}
