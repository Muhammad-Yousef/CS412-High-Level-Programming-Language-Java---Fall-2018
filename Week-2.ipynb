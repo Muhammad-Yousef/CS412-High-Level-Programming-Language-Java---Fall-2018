{
 "cells": [
  {
   "cell_type": "markdown",
   "metadata": {},
   "source": [
    "<center><h1>Week 2</h1></center>"
   ]
  },
  {
   "cell_type": "markdown",
   "metadata": {},
   "source": [
    "# Constants [final]\n",
    "\n",
    "- A field can be declared as final. Doing so prevents its contents from being modified, making it, essentially, a constant\n",
    "- This means that you must initialize a final field when it is declared. You can do this in one of <b>two ways but not both</b>: \n",
    "    1. You can give it a value when it is declared.\n",
    "    2. You can assign it a value within a constructor."
   ]
  },
  {
   "cell_type": "code",
   "execution_count": 22,
   "metadata": {},
   "outputs": [],
   "source": [
    "public class A{\n",
    "    \n",
    "    public final int m = 10;\n",
    "    \n",
    "    public void getX(){\n",
    "        System.out.println(this.m);\n",
    "    }\n",
    "}"
   ]
  },
  {
   "cell_type": "code",
   "execution_count": 23,
   "metadata": {},
   "outputs": [
    {
     "name": "stdout",
     "output_type": "stream",
     "text": [
      "10\n"
     ]
    }
   ],
   "source": [
    "A a = new A();\n",
    "a.getX();"
   ]
  },
  {
   "cell_type": "code",
   "execution_count": 25,
   "metadata": {},
   "outputs": [],
   "source": [
    "public class A{\n",
    "    \n",
    "    public final int m;\n",
    "    \n",
    "    public A(int c){\n",
    "        this.m = c;\n",
    "    }\n",
    "    \n",
    "    public void getX(){\n",
    "        System.out.println(this.m);\n",
    "    }\n",
    "}"
   ]
  },
  {
   "cell_type": "code",
   "execution_count": 26,
   "metadata": {},
   "outputs": [
    {
     "name": "stdout",
     "output_type": "stream",
     "text": [
      "11\n"
     ]
    }
   ],
   "source": [
    "A a = new A(11);\n",
    "a.getX();"
   ]
  },
  {
   "cell_type": "markdown",
   "metadata": {},
   "source": [
    "- It is recommended to declare the constant in this case as <b>static</b> since its value will be the same for all of the instantiated objects. [Memory Effecient]"
   ]
  },
  {
   "cell_type": "markdown",
   "metadata": {},
   "source": [
    "- You can't assign the value through the constructor if it is assigned when it is declared."
   ]
  },
  {
   "cell_type": "code",
   "execution_count": null,
   "metadata": {},
   "outputs": [],
   "source": [
    "// This will produce an error\n",
    "\n",
    "public class A{\n",
    "    \n",
    "    public final int x = 10;\n",
    "    \n",
    "    public A(int c){\n",
    "        this.x = c;\n",
    "    }\n",
    "    \n",
    "    public void getX(){\n",
    "        System.out.println(this.x);\n",
    "    }\n",
    "}"
   ]
  },
  {
   "cell_type": "markdown",
   "metadata": {},
   "source": [
    "# Variables\n",
    "\n",
    "- A variable is a named memory location that may be assigned a value by your program.\n",
    "- Java (like most other languages) requires that variables be declared before they are used.\n",
    "- A variable is defined by the combination of a type, an identifier, and an optional initializer. In addition, all variables have a scope, which defines their visibility, and a lifetime.\n",
    "- Java allows variables to be declared within any block. A block is begun with an opening curly brace and ended by a closing curly brace. A block defines a scope.\n",
    "- Within a block, variables can be declared at any point, but are valid only after they are declared\n",
    "- The value of a variable may be changed during the execution of the program."
   ]
  },
  {
   "cell_type": "markdown",
   "metadata": {},
   "source": [
    "Type identifier = value;"
   ]
  },
  {
   "cell_type": "code",
   "execution_count": 27,
   "metadata": {},
   "outputs": [
    {
     "name": "stdout",
     "output_type": "stream",
     "text": [
      "5\n"
     ]
    }
   ],
   "source": [
    "int num = 5;\n",
    "System.out.println(num);"
   ]
  },
  {
   "cell_type": "markdown",
   "metadata": {},
   "source": [
    "# Selection Statements\n",
    "\n",
    "- Java supports two selection statements: <b>if</b> and <b>switch</b>\n",
    "- These statements allow you to control the flow of your program’s execution based upon conditions known only during run time."
   ]
  },
  {
   "cell_type": "markdown",
   "metadata": {},
   "source": [
    "## If Statement\n",
    "\n",
    "if(Conditon)\n",
    "\n",
    "    // Statement\n",
    "else\n",
    "\n",
    "    // Statement"
   ]
  },
  {
   "cell_type": "markdown",
   "metadata": {},
   "source": [
    "- Here, each statement may be a single statement or a compound statement enclosed in curly braces (that is, a block).\n",
    "- The condition is any expression that returns a boolean value.\n",
    "- The <b>else</b> clause is <b>optional</b>."
   ]
  },
  {
   "cell_type": "code",
   "execution_count": 36,
   "metadata": {},
   "outputs": [
    {
     "name": "stdout",
     "output_type": "stream",
     "text": [
      "True"
     ]
    }
   ],
   "source": [
    "int a = 5;\n",
    "\n",
    "if(a == 5){\n",
    "    System.out.print(\"True\");\n",
    "} else {\n",
    "    System.out.print(\"False\");\n",
    "}"
   ]
  },
  {
   "cell_type": "markdown",
   "metadata": {},
   "source": [
    "# Iteration Statements\n",
    "\n",
    "- Java’s iteration statements are <b>for</b>, <b>while</b>, and <b>do-while</b>"
   ]
  },
  {
   "cell_type": "markdown",
   "metadata": {},
   "source": [
    "## For-Loop\n",
    "\n",
    "for(Initialization; Condition; Iteration){\n",
    "    \n",
    "    // Statements\n",
    "}"
   ]
  },
  {
   "cell_type": "markdown",
   "metadata": {},
   "source": [
    "- The initialization portion of the loop sets a loop control variable to an <b>initial value</b>.\n",
    "- The condition is a <b>Boolean expression</b> that tests the loop control variable. If the outcome of that test is true, the for loop continues to iterate. If it is false, the loop terminates.\n",
    "- The iteration expression determines how the loop control variable is changed each time the loop iterates.\n",
    "- If only one statement is being repeated, there is no need for the curly braces."
   ]
  },
  {
   "cell_type": "code",
   "execution_count": 43,
   "metadata": {
    "scrolled": true
   },
   "outputs": [
    {
     "name": "stdout",
     "output_type": "stream",
     "text": [
      "0\n",
      "1\n",
      "2\n",
      "3\n",
      "4\n"
     ]
    }
   ],
   "source": [
    "for(int i = 0; i < 5; i++){\n",
    "    System.out.println(i);\n",
    "}"
   ]
  },
  {
   "cell_type": "markdown",
   "metadata": {},
   "source": [
    "## While-Loop\n",
    "\n",
    "while(condition){\n",
    "\n",
    "    //Statements\n",
    "    \n",
    "    //Incrementer\n",
    "}"
   ]
  },
  {
   "cell_type": "markdown",
   "metadata": {},
   "source": [
    "- The condition can be any <b>Boolean expression</b>. The body of the loop will be executed as long as the conditional expression is true. When condition becomes false, control passes to the next line of code immediately following the loop. \n",
    "- The curly braces are unnecessary if only a single statement is being repeated."
   ]
  },
  {
   "cell_type": "code",
   "execution_count": 45,
   "metadata": {},
   "outputs": [
    {
     "name": "stdout",
     "output_type": "stream",
     "text": [
      "0\n",
      "1\n",
      "2\n",
      "3\n",
      "4\n"
     ]
    }
   ],
   "source": [
    "int i = 0;\n",
    "\n",
    "while(i < 5){\n",
    "    \n",
    "    System.out.println(i);\n",
    "    i++;\n",
    "    \n",
    "}"
   ]
  },
  {
   "cell_type": "markdown",
   "metadata": {},
   "source": [
    "## do-while\n",
    "\n",
    "- If the conditional expression controlling a while loop is initially false, then the body of the loop will not be executed at all. \n",
    "- However, sometimes it is desirable to execute the body of a loop <b>at least once</b>, even if the conditional expression is false to begin with. \n",
    "- In other words, there are times when you would like to test the termination expression at the end of the loop rather than at the beginning."
   ]
  },
  {
   "cell_type": "markdown",
   "metadata": {},
   "source": [
    "do {\n",
    "\n",
    "    // Body of loop\n",
    "\n",
    "} while(condition);"
   ]
  },
  {
   "cell_type": "markdown",
   "metadata": {},
   "source": [
    "- Each iteration of the do-while loop first executes the body of the loop and then evaluates the conditional expression. If this expression is true, the loop will repeat. Otherwise, the loop terminates. As with all of Java’s loops, condition must be a <b>Boolean expression</b>"
   ]
  },
  {
   "cell_type": "markdown",
   "metadata": {},
   "source": [
    "# Functions"
   ]
  },
  {
   "cell_type": "markdown",
   "metadata": {},
   "source": [
    "AccessModifier ReturnType FunctionName(Parameters List){\n",
    "\n",
    "    // Function Body\n",
    "    \n",
    "}"
   ]
  },
  {
   "cell_type": "code",
   "execution_count": 55,
   "metadata": {},
   "outputs": [],
   "source": [
    "double add(double x, double y){\n",
    "    double z;\n",
    "    z = x + y;\n",
    "    return z;\n",
    "}"
   ]
  },
  {
   "cell_type": "code",
   "execution_count": 56,
   "metadata": {
    "scrolled": true
   },
   "outputs": [
    {
     "name": "stdout",
     "output_type": "stream",
     "text": [
      "11.0"
     ]
    }
   ],
   "source": [
    "System.out.print(add(5, 6));"
   ]
  },
  {
   "cell_type": "markdown",
   "metadata": {},
   "source": [
    "- It is important to keep the two terms <b>parameter</b> and <b>argument</b> straight.\n",
    "- A <b>parameter</b> is a variable defined by a method that receives a value when the method is called. For example, in square(i), i is a parameter. \n",
    "- An <b>argument</b> is a value that is passed to a method when it is invoked. For example, square(100) passes 100 as an argument. Inside square( ), the parameter i receives that value."
   ]
  },
  {
   "cell_type": "markdown",
   "metadata": {},
   "source": [
    "## Argument passing\n",
    "\n",
    "- Although Java uses <b>call-by-value</b> to <b>pass all arguments</b>, the precise effect differs between whether a <b>primitive</b> type or a <b>reference</b> type is passed.\n",
    "- When you pass a <b>primitive</b> type to a method, it is passed <b>by value</b>. Thus, a copy of the argument is made, and what occurs to the parameter that receives the argument has no effect outside the method.\n",
    "- When you pass an <b>object</b> to a method, the situation changes dramatically, because objects are passed by what is effectively <b>call-by-reference</b>."
   ]
  },
  {
   "cell_type": "markdown",
   "metadata": {},
   "source": [
    "### Pass by Value:\n",
    "\n",
    "- This approach copies the value of an argument into the formal parameter of the subroutine. Therefore, changes made to the parameter of the subroutine have no effect on the argument."
   ]
  },
  {
   "cell_type": "markdown",
   "metadata": {},
   "source": [
    "### Pass by Reference\n",
    "\n",
    "- In this approach, a reference to an argument (not the value of the argument) is passed to the parameter. \n",
    "- Inside the subroutine, this reference is used to access the actual argument specified in the call. This means that changes made to the parameter will affect the argument used to call the subroutine."
   ]
  },
  {
   "cell_type": "markdown",
   "metadata": {},
   "source": [
    "# Arrays\n",
    "\n",
    "- The general form of a one-dimensional array declaration is: type var-name[ ];"
   ]
  },
  {
   "cell_type": "code",
   "execution_count": 75,
   "metadata": {},
   "outputs": [],
   "source": [
    "int x[] = new int[5];"
   ]
  },
  {
   "cell_type": "code",
   "execution_count": 76,
   "metadata": {},
   "outputs": [
    {
     "data": {
      "text/plain": [
       "4"
      ]
     },
     "execution_count": 76,
     "metadata": {},
     "output_type": "execute_result"
    }
   ],
   "source": [
    "int x[] = new int[5];\n",
    "x[0] = 1;\n",
    "x[1] = 2;\n",
    "x[3] = 3;\n",
    "x[4] = 4;"
   ]
  },
  {
   "cell_type": "code",
   "execution_count": 77,
   "metadata": {},
   "outputs": [],
   "source": [
    "int x[] = {1, 2, 3, 4, 5};"
   ]
  },
  {
   "cell_type": "markdown",
   "metadata": {},
   "source": [
    "- There is a second form that may be used to declare an array: type[ ] var-name;"
   ]
  },
  {
   "cell_type": "code",
   "execution_count": null,
   "metadata": {},
   "outputs": [],
   "source": [
    "int [] x, y;"
   ]
  },
  {
   "cell_type": "markdown",
   "metadata": {},
   "source": [
    "- <b>new</b> is a special operator that allocates memory.\n",
    "- The elements in the array allocated by new will automatically be initialized to <b>zero (for numeric types)</b>, <b>false (for boolean)</b>, or <b>null (for reference types)</b>."
   ]
  },
  {
   "cell_type": "code",
   "execution_count": 78,
   "metadata": {},
   "outputs": [
    {
     "name": "stdout",
     "output_type": "stream",
     "text": [
      "0 0 0 0 0 0 0 0 0 0 "
     ]
    }
   ],
   "source": [
    "int a[] = new int[10];\n",
    "\n",
    "for(int i : a){\n",
    "    System.out.print(i + \" \");\n",
    "}"
   ]
  },
  {
   "cell_type": "markdown",
   "metadata": {},
   "source": [
    "## Multi-dimensional Arrays"
   ]
  },
  {
   "cell_type": "code",
   "execution_count": null,
   "metadata": {},
   "outputs": [],
   "source": [
    "int x [][] = {{1, 2}, {3, 4}, {5, 6}};"
   ]
  },
  {
   "cell_type": "markdown",
   "metadata": {},
   "source": [
    "- When you allocate memory for a multidimensional array, you need only specify the memory for the first (leftmost) dimension. You can allocate the remaining dimensions seperately.\n",
    "- when you allocate dimensions manually, you <b>do not need</b> to allocate the same number of elements for each dimension. "
   ]
  },
  {
   "cell_type": "code",
   "execution_count": null,
   "metadata": {},
   "outputs": [],
   "source": [
    "int twoD[][] = new int[4][];\n",
    "\n",
    "twoD[0] = new int[1];\n",
    "twoD[1] = new int[2];\n",
    "twoD[2] = new int[3];\n",
    "twoD[3] = new int[4];"
   ]
  }
 ],
 "metadata": {
  "kernelspec": {
   "display_name": "Java",
   "language": "java",
   "name": "java"
  },
  "language_info": {
   "codemirror_mode": "java",
   "file_extension": ".java",
   "mimetype": "text/x-java-source",
   "name": "Java",
   "pygments_lexer": "java",
   "version": "10.0.2+13"
  }
 },
 "nbformat": 4,
 "nbformat_minor": 2
}
